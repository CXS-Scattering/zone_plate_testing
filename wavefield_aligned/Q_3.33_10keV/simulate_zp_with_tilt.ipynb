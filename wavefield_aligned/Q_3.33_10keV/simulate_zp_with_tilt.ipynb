{
 "cells": [
  {
   "cell_type": "markdown",
   "metadata": {},
   "source": [
    "(Note that all units unless otherwise mentioned are SI units.)"
   ]
  },
  {
   "cell_type": "code",
   "execution_count": 1,
   "metadata": {},
   "outputs": [],
   "source": [
    "%%capture\n",
    "import numpy as np\n",
    "import numexpr as ne\n",
    "import matplotlib.pyplot as plt\n",
    "import pickle,os\n",
    "from multislice import prop,prop_utils\n",
    "from os.path import dirname as up\n",
    "from tqdm import tqdm_notebook\n",
    "import h5py"
   ]
  },
  {
   "cell_type": "markdown",
   "metadata": {},
   "source": [
    "Importing all the required libraries."
   ]
  },
  {
   "cell_type": "code",
   "execution_count": 2,
   "metadata": {},
   "outputs": [
    {
     "name": "stdout",
     "output_type": "stream",
     "text": [
      "grid_size  :  55296\n",
      "step_xy  :  4.738222262408356e-09\n",
      "energy(in eV)  :  10000\n",
      "wavelength in m  :  1.23984e-10\n",
      "focal_length  :  0.01\n",
      "zp_coords  :  [-0.000131, 0.000131, -0.000131, 0.000131]\n",
      "delta  :  2.9912e-05\n",
      "beta  :  2.2073e-06\n"
     ]
    }
   ],
   "source": [
    "pwd = os.getcwd()\n",
    "os.chdir(up(up(os.getcwd()))+str('/zp_database/hard_xray_zp'))\n",
    "parameters = pickle.load(open('parameters.pickle','rb'))\n",
    "for i in parameters : print(i,' : ',parameters[i])\n",
    "wavel = parameters['wavelength in m']\n",
    "step_xy = parameters['step_xy']\n",
    "zp_coords = parameters['zp_coords']\n",
    "grid_size = parameters['grid_size']\n",
    "beta  = parameters['beta']\n",
    "delta = parameters['delta']\n",
    "step_xy = parameters['step_xy']\n",
    "wavel = parameters['wavelength in m']\n",
    "f = parameters['focal_length']\n",
    "L = step_xy*grid_size\n",
    "os.chdir(pwd)"
   ]
  },
  {
   "cell_type": "code",
   "execution_count": 3,
   "metadata": {},
   "outputs": [],
   "source": [
    "f = h5py.File(\"zp_rotate.hdf5\")\n",
    "zp_rotate = f['zp_rotate']\n",
    "number_of_steps = zp_rotate.attrs['rotation_slices']\n",
    "step_z = zp_rotate.attrs['step_z']\n",
    "f.close()"
   ]
  },
  {
   "cell_type": "code",
   "execution_count": 4,
   "metadata": {},
   "outputs": [],
   "source": [
    "def get_pattern(i):\n",
    "    temp  = np.zeros((55296,55296))\n",
    "    temp_ = np.zeros((15000,15000))\n",
    "    f = h5py.File(\"zp_rotate.hdf5\")\n",
    "    zp_rotate = f['zp_rotate']\n",
    "    zp_rotate.read_direct(temp_, np.s_[:,:,i], np.s_[:,:])\n",
    "    f.close()\n",
    "    N = int(55296/2)\n",
    "    n = 7500\n",
    "    temp[N-n:N+n,N-n:N+n] = temp_\n",
    "    del temp_\n",
    "    return temp"
   ]
  },
  {
   "cell_type": "code",
   "execution_count": 5,
   "metadata": {},
   "outputs": [],
   "source": [
    "wavefront = np.ones((55296,55296),dtype='complex64')"
   ]
  },
  {
   "cell_type": "code",
   "execution_count": null,
   "metadata": {},
   "outputs": [
    {
     "name": "stdout",
     "output_type": "stream",
     "text": [
      "propogator to be used : Transfer Function\n"
     ]
    },
    {
     "data": {
      "application/vnd.jupyter.widget-view+json": {
       "model_id": "250c39dca2ea40919d7ff447e97116c5",
       "version_major": 2,
       "version_minor": 0
      },
      "text/plain": [
       "HBox(children=(IntProgress(value=0, max=12), HTML(value='')))"
      ]
     },
     "metadata": {},
     "output_type": "display_data"
    }
   ],
   "source": [
    "ne.set_vml_num_threads(24)\n",
    "\n",
    "p = prop_utils.decide(step_z,step_xy,L,wavel)\n",
    "\n",
    "for i in tqdm_notebook(range(number_of_steps)):\n",
    "    pattern = get_pattern(i)\n",
    "    wavefront = prop_utils.modify_two_materials_case_2(wavefront,step_z,wavel,\n",
    "                                            pattern,delta,beta,\n",
    "                                            np.ones(np.shape(pattern))-pattern,0,0)\n",
    "    wavefront,L1 = p(wavefront,step_xy,L,wavel,step_z)\n",
    "\n",
    "wave_exit = wavefront\n",
    "del wavefront"
   ]
  },
  {
   "cell_type": "code",
   "execution_count": null,
   "metadata": {},
   "outputs": [],
   "source": [
    "plt.imshow(np.abs(wave_exit),extent=np.array([-L1/2,L1/2,-L1/2,L1/2])*1e6,cmap='jet')\n",
    "plt.xlabel('axes in um')\n",
    "plt.title('wavefront(magnitude) at zone plate exit')\n",
    "plt.colorbar()\n",
    "plt.show()\n",
    "#print(np.max(np.abs(wave_exit)))"
   ]
  },
  {
   "cell_type": "code",
   "execution_count": null,
   "metadata": {},
   "outputs": [],
   "source": [
    "step_z = f - (number_of_steps*step_z)/2\n",
    "p = prop_utils.decide(step_z,step_xy,L,wavel)\n",
    "print('Propagation to focal plane')\n",
    "print('Fresnel Number :',((L**2)/(wavel*step_z)))\n",
    "wave_focus,L2 = p(wave_exit - np.ones(np.shape(wave_exit)),step_xy,L,wavel,step_z)\n",
    "wave_focus = wave_focus +  np.ones(np.shape(wave_exit))"
   ]
  },
  {
   "cell_type": "code",
   "execution_count": null,
   "metadata": {},
   "outputs": [],
   "source": [
    "plt.imshow(np.abs(wave_focus),extent=np.array([-L2/2,L2/2,-L2/2,L2/2])*1e6,cmap='jet')\n",
    "plt.xlabel('axes in um')\n",
    "plt.title('wavefront(magnitude) at focal plane')\n",
    "plt.colorbar()\n",
    "plt.show()"
   ]
  },
  {
   "cell_type": "markdown",
   "metadata": {},
   "source": [
    "The focal spot size is ~50 pixels and one can't see it when the whole wavefront (40k by 40k) is visualized ! \n",
    "Another thing one can notice is the faint outline of a square, this is because the output grid dimensions are different from the input grid dimensions and the length of the side of this square is nothing but the support length of the input plane."
   ]
  },
  {
   "cell_type": "code",
   "execution_count": null,
   "metadata": {},
   "outputs": [],
   "source": [
    "x = np.linspace(-1,1,grid_size)*L2/2\n",
    "plt.plot(x,abs(wave_focus)[int(grid_size/2),:])\n",
    "plt.xlabel('axes in um')\n",
    "plt.show()\n",
    "print('slice in x-direction along the focal plane')"
   ]
  },
  {
   "cell_type": "markdown",
   "metadata": {},
   "source": [
    "The above plot shows that the location of the focal spot has shifted due to the tilt of the input wave."
   ]
  },
  {
   "cell_type": "code",
   "execution_count": null,
   "metadata": {},
   "outputs": [],
   "source": [
    "focal_spot_size = 100\n",
    "focal_spot,x_,y_,max_val = prop_utils.get_focal_spot(np.abs(wave_focus),grid_size,focal_spot_size)"
   ]
  },
  {
   "cell_type": "code",
   "execution_count": null,
   "metadata": {},
   "outputs": [],
   "source": [
    "plt.imshow(np.log(focal_spot**2+1),extent = np.array([-1,1,-1,1])*(focal_spot_size)*(L2/grid_size)*(1e9),cmap='jet')\n",
    "plt.title('focal spot intensity (log scale)')\n",
    "plt.xlabel('axes in nm')\n",
    "plt.colorbar()\n",
    "plt.show()"
   ]
  },
  {
   "cell_type": "code",
   "execution_count": null,
   "metadata": {},
   "outputs": [],
   "source": [
    "plt.imshow((focal_spot**2),extent = np.array([-1,1,-1,1])*(focal_spot_size)*(L2/grid_size)*(1e9),cmap='jet')\n",
    "plt.title('focal spot intensity')\n",
    "plt.xlabel('axes in nm')\n",
    "plt.colorbar()\n",
    "plt.show()"
   ]
  },
  {
   "cell_type": "code",
   "execution_count": null,
   "metadata": {},
   "outputs": [],
   "source": []
  }
 ],
 "metadata": {
  "kernelspec": {
   "display_name": "Python 3",
   "language": "python",
   "name": "python3"
  },
  "language_info": {
   "codemirror_mode": {
    "name": "ipython",
    "version": 3
   },
   "file_extension": ".py",
   "mimetype": "text/x-python",
   "name": "python",
   "nbconvert_exporter": "python",
   "pygments_lexer": "ipython3",
   "version": "3.6.3"
  }
 },
 "nbformat": 4,
 "nbformat_minor": 2
}
