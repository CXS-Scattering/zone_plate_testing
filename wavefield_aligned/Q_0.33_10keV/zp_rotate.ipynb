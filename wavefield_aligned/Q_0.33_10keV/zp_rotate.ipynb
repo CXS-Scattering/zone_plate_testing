{
 "cells": [
  {
   "cell_type": "code",
   "execution_count": 1,
   "metadata": {},
   "outputs": [
    {
     "name": "stderr",
     "output_type": "stream",
     "text": [
      "/home/sajid/miniconda3/envs/ipy3/lib/python3.6/site-packages/h5py/__init__.py:36: FutureWarning: Conversion of the second argument of issubdtype from `float` to `np.floating` is deprecated. In future, it will be treated as `np.float64 == np.dtype(float).type`.\n",
      "  from ._conv import register_converters as _register_converters\n",
      "ERROR:root:File `'temp.py'` not found.\n"
     ]
    }
   ],
   "source": [
    "import numpy as np\n",
    "import matplotlib.pyplot as plt\n",
    "import skimage.transform\n",
    "import h5py\n",
    "from tqdm import tqdm_notebook,trange\n",
    "%run temp.py"
   ]
  },
  {
   "cell_type": "code",
   "execution_count": 2,
   "metadata": {},
   "outputs": [
    {
     "name": "stdout",
     "output_type": "stream",
     "text": [
      "rotation_slices     : 6\n",
      "step_xy             : 4.738222262408356e-09\n",
      "expand_slices       : 320\n",
      "step_z              : 1.5162311239706738e-06\n",
      "zp_thickness        : 7.5938e-07\n"
     ]
    }
   ],
   "source": [
    "f = h5py.File(\"zp_reduced.hdf5\",\"r\")\n",
    "zp_dset = f['zp_reduced']\n",
    "zp_reduced = zp_dset[:,:]\n",
    "suggested_step_size = zp_dset.attrs['suggested_step_size']\n",
    "zp_thickness        = zp_dset.attrs['zp_thickness']\n",
    "rot_slices          = zp_dset.attrs['rotation_slices']\n",
    "step_xy             = zp_dset.attrs['step_xy']\n",
    "expand_slices       = zp_dset.attrs['expand_slices']\n",
    "step_z              = zp_dset.attrs['step_z']\n",
    "max_angle           = zp_dset.attrs['max_angle']\n",
    "f.close()\n",
    "\n",
    "print(\"rotation_slices     :\",rot_slices)\n",
    "print(\"step_xy             :\",step_xy)\n",
    "print(\"expand_slices       :\",expand_slices)\n",
    "print(\"step_z              :\",step_z)\n",
    "print(\"zp_thickness        :\",zp_thickness)"
   ]
  },
  {
   "cell_type": "code",
   "execution_count": 3,
   "metadata": {},
   "outputs": [],
   "source": [
    "!rm zp_rotate.hdf5"
   ]
  },
  {
   "cell_type": "code",
   "execution_count": 4,
   "metadata": {},
   "outputs": [],
   "source": [
    "angle = 5"
   ]
  },
  {
   "cell_type": "code",
   "execution_count": 5,
   "metadata": {},
   "outputs": [],
   "source": [
    "f = h5py.File(\"zp_rotate.hdf5\")\n",
    "zp_rotate = f.create_dataset(\"zp_rotate\",\n",
    "                        (np.shape(zp_reduced)[0],np.shape(zp_reduced)[1],rot_slices),\n",
    "                        chunks=True)\n",
    "zp_rotate.attrs['suggested_step_size'] = suggested_step_size\n",
    "zp_rotate.attrs['zp_thickness']        = 0.6845e-6\n",
    "zp_rotate.attrs['step_xy']             = step_xy\n",
    "zp_rotate.attrs['rotation_slices']     = rot_slices\n",
    "zp_rotate.attrs['expand_slices']       = expand_slices\n",
    "zp_rotate.attrs['step_z']              = step_z\n",
    "zp_rotate.attrs['angle']               = angle"
   ]
  },
  {
   "cell_type": "code",
   "execution_count": 6,
   "metadata": {},
   "outputs": [],
   "source": [
    "import time\n",
    "t1 = time.time() "
   ]
  },
  {
   "cell_type": "code",
   "execution_count": 7,
   "metadata": {},
   "outputs": [],
   "source": [
    "zp_extent  = int((zp_thickness/step_xy)/2)\n",
    "center_loc = int(expand_slices*rot_slices/2)"
   ]
  },
  {
   "cell_type": "code",
   "execution_count": null,
   "metadata": {},
   "outputs": [
    {
     "data": {
      "application/vnd.jupyter.widget-view+json": {
       "model_id": "e1091a2bfc2e4fd1b609edf26f0b0b0f",
       "version_major": 2,
       "version_minor": 0
      },
      "text/plain": [
       "HBox(children=(IntProgress(value=0, max=15), HTML(value='')))"
      ]
     },
     "metadata": {},
     "output_type": "display_data"
    },
    {
     "name": "stderr",
     "output_type": "stream",
     "text": [
      "Expand   : 100%|██████████| 121/121 [02:13<00:00,  1.29it/s]\n",
      "Rotate zp: 100%|██████████| 1000/1000 [07:53<00:00,  1.94it/s]\n",
      "Collapse : 100%|██████████| 13/13 [03:09<00:00, 13.56s/it]\n",
      "Expand   : 100%|██████████| 121/121 [02:17<00:00,  1.22it/s]\n",
      "Rotate zp: 100%|██████████| 1000/1000 [07:39<00:00,  2.09it/s]\n",
      "Collapse : 100%|██████████| 13/13 [02:55<00:00, 13.38s/it]\n",
      "Expand   : 100%|██████████| 121/121 [02:21<00:00,  1.17it/s]\n",
      "Rotate zp: 100%|██████████| 1000/1000 [07:33<00:00,  1.93it/s]\n",
      "Collapse : 100%|██████████| 13/13 [02:39<00:00, 12.22s/it]\n",
      "Expand   : 100%|██████████| 121/121 [02:13<00:00,  1.23it/s]\n",
      "Rotate zp: 100%|██████████| 1000/1000 [07:28<00:00,  2.00it/s]\n",
      "Collapse : 100%|██████████| 13/13 [02:38<00:00, 11.96s/it]\n",
      "Expand   : 100%|██████████| 121/121 [02:13<00:00,  1.09it/s]\n",
      "Rotate zp: 100%|██████████| 1000/1000 [07:29<00:00,  2.00it/s]\n",
      "Collapse : 100%|██████████| 13/13 [03:15<00:00, 12.12s/it]\n",
      "Expand   : 100%|██████████| 121/121 [02:15<00:00,  1.18it/s]\n",
      "Rotate zp: 100%|██████████| 1000/1000 [07:22<00:00,  2.09it/s]\n",
      "Collapse : 100%|██████████| 13/13 [02:39<00:00, 11.54s/it]\n",
      "Expand   : 100%|██████████| 121/121 [02:19<00:00,  1.14it/s]\n",
      "Rotate zp: 100%|██████████| 1000/1000 [07:24<00:00,  2.26it/s]\n",
      "Collapse : 100%|██████████| 13/13 [02:37<00:00, 11.50s/it]\n",
      "Expand   : 100%|██████████| 121/121 [02:12<00:00,  1.23it/s]\n",
      "Rotate zp: 100%|██████████| 1000/1000 [07:25<00:00,  2.05it/s]\n",
      "Collapse : 100%|██████████| 13/13 [02:39<00:00, 11.69s/it]\n",
      "Expand   : 100%|██████████| 121/121 [02:11<00:00,  1.24it/s]\n",
      "Rotate zp: 100%|██████████| 1000/1000 [07:34<00:00,  2.06it/s]\n",
      "Collapse : 100%|██████████| 13/13 [02:37<00:00, 11.49s/it]\n",
      "Expand   : 100%|██████████| 121/121 [02:12<00:00,  1.22it/s]\n",
      "Rotate zp: 100%|██████████| 1000/1000 [07:21<00:00,  2.05it/s]\n",
      "Collapse : 100%|██████████| 13/13 [02:55<00:00, 11.45s/it]\n",
      "Expand   : 100%|██████████| 121/121 [02:10<00:00,  1.24it/s]\n",
      "Rotate zp: 100%|██████████| 1000/1000 [07:23<00:00,  1.98it/s]\n",
      "Collapse : 100%|██████████| 13/13 [02:38<00:00, 11.32s/it]\n",
      "Expand   : 100%|██████████| 121/121 [02:12<00:00,  1.22it/s]\n",
      "Rotate zp: 100%|██████████| 1000/1000 [07:26<00:00,  1.88it/s]\n",
      "Collapse : 100%|██████████| 13/13 [02:36<00:00, 11.44s/it]\n",
      "Expand   : 100%|██████████| 121/121 [02:09<00:00,  1.24it/s]\n",
      "Rotate zp:  66%|██████▋   | 663/1000 [04:52<02:35,  2.17it/s]"
     ]
    }
   ],
   "source": [
    "for i in tqdm_notebook(range(15)):\n",
    "    temp  = np.zeros((1000,15000,rot_slices))\n",
    "    temp_ = np.zeros((1000,15000,expand_slices*rot_slices))\n",
    "    transfer = np.zeros((1000,15000))\n",
    "   \n",
    "    #Hold no tilt pattern for initial transfer\n",
    "    transfer = zp_reduced[1000*i:1000*(i+1),:]\n",
    "    \n",
    "    #Fill expanded array\n",
    "    for j in trange(zp_extent,desc='Expand   '):    \n",
    "        temp_[:,:,center_loc-j] = transfer\n",
    "        temp_[:,:,center_loc+j] = transfer\n",
    "    \n",
    "    #Rotate expanded array\n",
    "    for j in trange(1000,desc='Rotate zp'):\n",
    "        temp_[j,:,:] = pyvips_rotate(temp_[j,:,:],angle_ = angle)\n",
    "    \n",
    "    #Collapse\n",
    "    for j in trange(rot_slices,desc='Collapse '):\n",
    "        temp[:,:,j] = np.sum(temp_[:,:,expand_slices*j:expand_slices*(j+1)],axis=-1)/expand_slices\n",
    "    \n",
    "    #Transfer back\n",
    "    zp_rotate.write_direct(temp, np.s_[:,:,:], np.s_[1000*i:1000*(i+1),:,:])\n",
    "    del temp_\n",
    "    del temp\n",
    "    del transfer"
   ]
  },
  {
   "cell_type": "code",
   "execution_count": null,
   "metadata": {},
   "outputs": [],
   "source": [
    "zp_rotate.attrs['angle'] = angle\n",
    "f.close()"
   ]
  },
  {
   "cell_type": "code",
   "execution_count": null,
   "metadata": {},
   "outputs": [],
   "source": [
    "t2 = time.time()\n",
    "print(t2-t1)"
   ]
  },
  {
   "cell_type": "code",
   "execution_count": null,
   "metadata": {},
   "outputs": [],
   "source": []
  }
 ],
 "metadata": {
  "kernelspec": {
   "display_name": "Python 3",
   "language": "python",
   "name": "python3"
  },
  "language_info": {
   "codemirror_mode": {
    "name": "ipython",
    "version": 3
   },
   "file_extension": ".py",
   "mimetype": "text/x-python",
   "name": "python",
   "nbconvert_exporter": "python",
   "pygments_lexer": "ipython3",
   "version": "3.6.3"
  }
 },
 "nbformat": 4,
 "nbformat_minor": 2
}
