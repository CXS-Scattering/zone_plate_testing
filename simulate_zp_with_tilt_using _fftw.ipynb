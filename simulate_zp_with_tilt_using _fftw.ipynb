{
 "cells": [
  {
   "cell_type": "markdown",
   "metadata": {},
   "source": [
    "(Note that all units unless otherwise mentioned are SI units.)"
   ]
  },
  {
   "cell_type": "code",
   "execution_count": 1,
   "metadata": {},
   "outputs": [],
   "source": [
    "import numpy as np\n",
    "import matplotlib.pyplot as plt\n",
    "import pickle,os\n",
    "from multislice import prop,prop_utils"
   ]
  },
  {
   "cell_type": "markdown",
   "metadata": {},
   "source": [
    "Importing all the required libraries."
   ]
  },
  {
   "cell_type": "code",
   "execution_count": 2,
   "metadata": {},
   "outputs": [],
   "source": [
    "def find_edge(x,grid_size,n):\n",
    "    if x<(grid_size/2):\n",
    "        if x>n:\n",
    "            return n\n",
    "        else :\n",
    "            return int(np.floor(x / 2) * 2)\n",
    "    else :\n",
    "        if (grid_size-x)>n:\n",
    "            return n\n",
    "        else :\n",
    "            return int(np.floor((grid_size-x) / 2) * 2)"
   ]
  },
  {
   "cell_type": "markdown",
   "metadata": {},
   "source": [
    "*find_edge* : get the distance of the pixel of interest from the edge of the array\n",
    "* *Inputs* : x - co-ordinate of the pixel (where the wavefront in the focal plane hits it's maximum value), grid_size,      n - length of the spot we would like to capture\n",
    "* *Outputs* : if the desired length 'n' can be safely captured, the output is n, else the output is the number of pixels one can capture (the only reason this would happen is if the focal spot is too close to the edge of the output wavefront due to tilt (remember that intput wavefront gets tilted))"
   ]
  },
  {
   "cell_type": "code",
   "execution_count": 3,
   "metadata": {},
   "outputs": [],
   "source": [
    "def get_focal_spot(focal_plane_,grid_size,n=250):\n",
    "    x_,y_ = np.where(focal_plane_==np.max(focal_plane_))\n",
    "    x_ = x_[0]\n",
    "    y_ = y_[0]\n",
    " \n",
    "    x1 = find_edge(x_,grid_size,n)\n",
    "    y1 = find_edge(y_,grid_size,n)\n",
    "    \n",
    "    print('max_loc :',x_,y_,x1,y1)\n",
    "    \n",
    "    focal_spot_ = np.zeros((2*n,2*n))\n",
    "    if (x1+y1) != 2*n:\n",
    "        focal_spot_[n-x1:n+x1,n-y1:n+y1] = focal_plane_[x_-x1:x_+x1,y_-y1:y_+y1]\n",
    "    else :\n",
    "        focal_spot_[:,:] = focal_plane_[x_-n:x_+n,y_-n:y_+n]\n",
    "    return focal_spot_,x_,y_,np.max(focal_plane_)"
   ]
  },
  {
   "cell_type": "markdown",
   "metadata": {},
   "source": [
    "*get_focal_spot* : get the region in the output plane containing the focal spot\n",
    "* *Inputs* : focal_plane - the wavefront at the focal plane, grid_size, n - half-size of the array to be returned\n",
    "* *Outputs* : a numpy array containing the focal spot"
   ]
  },
  {
   "cell_type": "code",
   "execution_count": 4,
   "metadata": {},
   "outputs": [],
   "source": [
    "def make_zp_from_rings(n,grid_size):\n",
    "    zp = np.zeros((grid_size,grid_size))\n",
    "    for i in range(n):\n",
    "        if i%2 == 1 :\n",
    "            ring_ = np.load('ring_'+str(i)+'.npy')\n",
    "            ring_ = tuple((ring_[0],ring_[1]))\n",
    "            zp[ring_] = 1\n",
    "    return zp"
   ]
  },
  {
   "cell_type": "markdown",
   "metadata": {},
   "source": [
    "*make_zp_from_rings* : make a zone plate from the rings which were created earlier.\n",
    "* *Inputs* : n - number of rings, grid_size \n",
    "* *Outputs* : a numpy array containing the zone plate"
   ]
  },
  {
   "cell_type": "code",
   "execution_count": 5,
   "metadata": {},
   "outputs": [
    {
     "name": "stdout",
     "output_type": "stream",
     "text": [
      "grid_size  :  40000\n",
      "step_xy  :  2.7500687517154065e-09\n",
      "energy(in eV)  :  10000\n",
      "wavelength in m  :  1.23984e-10\n",
      "focal_length  :  0.005\n",
      "zp_coords  :  [-5.5e-05, 5.5e-05, -5.5e-05, 5.5e-05]\n",
      "delta  :  2.9912e-05\n",
      "beta  :  2.2073e-06\n"
     ]
    },
    {
     "data": {
      "image/png": "[encoded data removed]",
      "text/plain": [
       "<Figure size 432x288 with 2 Axes>"
      ]
     },
     "metadata": {},
     "output_type": "display_data"
    }
   ],
   "source": [
    "os.chdir(os.getcwd()+str('/rings'))\n",
    "parameters = pickle.load(open('parameters.pickle','rb'))\n",
    "for i in parameters : print(i,' : ',parameters[i])\n",
    "zp_coords = parameters['zp_coords']\n",
    "grid_size = parameters['grid_size']\n",
    "zp = make_zp_from_rings(250,int(grid_size))\n",
    "plt.imshow(zp,extent=np.array(zp_coords)*1e6)\n",
    "plt.title('Zone plate pattern')\n",
    "plt.xlabel('axes in um')\n",
    "plt.colorbar()\n",
    "plt.show()"
   ]
  },
  {
   "cell_type": "markdown",
   "metadata": {},
   "source": [
    "Importing zone plate pattern and the parameters associated with it. Plotting the zone plate after creating it from the rings. One needs to save the image with high dpi to clearly see the zone plate. "
   ]
  },
  {
   "cell_type": "code",
   "execution_count": 6,
   "metadata": {},
   "outputs": [],
   "source": [
    "beta  = parameters['beta']\n",
    "delta = parameters['delta']\n",
    "step_xy = parameters['step_xy']\n",
    "wavel = parameters['wavelength in m']\n",
    "f = parameters['focal_length']\n",
    "L = step_xy*np.shape(zp)[0] \n",
    "m,n = np.shape(zp)\n",
    "zp_thickness = 2e-6"
   ]
  },
  {
   "cell_type": "markdown",
   "metadata": {},
   "source": [
    "*Setting up the parameters for the simulation*<br>\n",
    "* *beta and delta*       : delta and beta at the relevant energy <br>\n",
    "* *step_xy*              : sampling in the xy plane<br>\n",
    "* *wavel*                : wavelength<br>\n",
    "* *f*                    : focal length<br>\n",
    "* *wavefront*            : wavefront that is initialzed with magnitude of 1 and phase of 0<br>\n",
    "* *L*                    : support length<br>\n",
    "* *m,n*                  : dimensions of input zp<zp>\n",
    "* *zp_thickness*         : thickness of zone plate <br>"
   ]
  },
  {
   "cell_type": "code",
   "execution_count": 7,
   "metadata": {},
   "outputs": [],
   "source": [
    "i = 0.5 #Angle in degrees\n",
    "theta = (i)*(np.pi/180)\n",
    "slope = np.tan(theta)\n",
    "x = np.linspace(zp_coords[0],zp_coords[1],n)\n",
    "X,Y = np.meshgrid(x,x)\n",
    "z1 = 2*np.pi*(1/wavel)*slope*X\n",
    "del X,Y,x\n",
    "wave_in = np.multiply(np.ones(np.shape(zp),dtype='complex64'),np.exp(1j*(z1)))\n",
    "del z1"
   ]
  },
  {
   "cell_type": "markdown",
   "metadata": {},
   "source": [
    "Creating the input wave for the simulation. The input wave has a position(along one axis) dependent phase to simulate the effect of tilting the zone plate (instead of tilting the zone plate itself though tilting the zone plate might be more efficient in the long run)"
   ]
  },
  {
   "cell_type": "code",
   "execution_count": null,
   "metadata": {},
   "outputs": [
    {
     "name": "stdout",
     "output_type": "stream",
     "text": [
      "suggested step size : 6.099882355111574e-07\n",
      "number of steps required for propogation through the zone plate : 5\n",
      "propogator to be used : Transfer Function\n",
      "Fresnel Number : 487990588.40892595\n",
      "0 modify :  29.466766119003296 prop : 613.2539570331573\n"
     ]
    }
   ],
   "source": [
    "number_of_steps =  prop_utils.number_of_steps(step_xy,wavel,zp_thickness)*2\n",
    "wave_exit,L1 = prop_utils.optic_illumination(wave_in,zp,delta,beta,zp_thickness,\n",
    "                                              step_xy,wavel,number_of_steps,0,0,use_fftw='True',mode='parallel')\n",
    "del zp,wave_in"
   ]
  },
  {
   "cell_type": "code",
   "execution_count": null,
   "metadata": {},
   "outputs": [],
   "source": [
    "plt.imshow(np.abs(wave_exit),extent=np.array([-L1/2,L1/2,-L1/2,L1/2])*1e6,cmap='jet')\n",
    "plt.xlabel('axes in um')\n",
    "plt.title('wavefront(magnitude) at zone plate exit')\n",
    "plt.colorbar()\n",
    "plt.show()\n",
    "print(np.max(np.abs(wave_exit)))"
   ]
  },
  {
   "cell_type": "code",
   "execution_count": null,
   "metadata": {},
   "outputs": [],
   "source": [
    "step_z = f\n",
    "p = prop_utils.decide(step_z,step_xy,L,wavel)\n",
    "print('Propagation to focal plane')\n",
    "print('Fresnel Number :',((L**2)/(wavel*step_z)))\n",
    "wave_focus,L2 = p(wave_exit,step_xy,L,wavel,step_z)"
   ]
  },
  {
   "cell_type": "code",
   "execution_count": null,
   "metadata": {},
   "outputs": [],
   "source": [
    "plt.imshow(np.abs(wave_focus),extent=np.array([-L2/2,L2/2,-L2/2,L2/2])*1e6,cmap='jet')\n",
    "plt.xlabel('axes in um')\n",
    "plt.title('wavefront(magnitude) at focal plane')\n",
    "plt.colorbar()\n",
    "plt.show()"
   ]
  },
  {
   "cell_type": "markdown",
   "metadata": {},
   "source": [
    "The focal spot is ~50 wide and one can't see it when the whole wavefront (40k by 40k) is visualized ! \n",
    "Another thing one can notice is the faint outline of a square, this is because the output grid dimensions are different from the input grid dimensions and the length of the side of this square is nothing but the support length of the input plane."
   ]
  },
  {
   "cell_type": "code",
   "execution_count": null,
   "metadata": {},
   "outputs": [],
   "source": [
    "x = np.linspace(-1,1,grid_size)*L2/2\n",
    "plt.plot(x,abs(wave_focus)[int(grid_size/2),:])\n",
    "plt.xlabel('axes in um')\n",
    "plt.show()\n",
    "print('slice in x-direction along the focal plane')"
   ]
  },
  {
   "cell_type": "markdown",
   "metadata": {},
   "source": [
    "The above plot shows that the location of the focal spot has shifted due to the tilt of the input wave."
   ]
  },
  {
   "cell_type": "code",
   "execution_count": null,
   "metadata": {},
   "outputs": [],
   "source": [
    "focal_spot_size = 100\n",
    "focal_spot,x_,y_,max_val = get_focal_spot(np.abs(wave_focus),grid_size,focal_spot_size)"
   ]
  },
  {
   "cell_type": "code",
   "execution_count": null,
   "metadata": {},
   "outputs": [],
   "source": [
    "plt.imshow(np.log(focal_spot**2+1),extent = np.array([-1,1,-1,1])*(focal_spot_size)*(L2/grid_size)*(1e9),cmap='jet')\n",
    "plt.title('focal spot intensity (log scale)')\n",
    "plt.xlabel('axes in nm')\n",
    "plt.colorbar()\n",
    "plt.show()"
   ]
  }
 ],
 "metadata": {
  "kernelspec": {
   "display_name": "Python 3",
   "language": "python",
   "name": "python3"
  },
  "language_info": {
   "codemirror_mode": {
    "name": "ipython",
    "version": 3
   },
   "file_extension": ".py",
   "mimetype": "text/x-python",
   "name": "python",
   "nbconvert_exporter": "python",
   "pygments_lexer": "ipython3",
   "version": "3.6.5"
  }
 },
 "nbformat": 4,
 "nbformat_minor": 2
}
