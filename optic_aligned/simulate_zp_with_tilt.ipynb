{
 "cells": [
  {
   "cell_type": "markdown",
   "metadata": {},
   "source": [
    "(Note that all units unless otherwise mentioned are SI units.)"
   ]
  },
  {
   "cell_type": "code",
   "execution_count": 1,
   "metadata": {},
   "outputs": [],
   "source": [
    "import numpy as np\n",
    "import numexpr as ne\n",
    "import matplotlib.pyplot as plt\n",
    "import pickle,os\n",
    "from multislice import prop,prop_utils"
   ]
  },
  {
   "cell_type": "markdown",
   "metadata": {},
   "source": [
    "Importing all the required libraries."
   ]
  },
  {
   "cell_type": "code",
   "execution_count": 2,
   "metadata": {},
   "outputs": [],
   "source": [
    "def make_zp_from_rings(n,grid_size):\n",
    "    zp = np.zeros((grid_size,grid_size))\n",
    "    for i in range(n):\n",
    "        if i%2 == 1 :\n",
    "            locs_ = np.load('ring_locs_'+str(i)+'.npy')\n",
    "            locs_ = tuple((locs_[0],locs_[1]))\n",
    "            vals_ = np.load('ring_vals_'+str(i)+'.npy')\n",
    "            zp[locs_] = vals_\n",
    "    return zp"
   ]
  },
  {
   "cell_type": "markdown",
   "metadata": {},
   "source": [
    "*make_zp_from_rings* : make a zone plate from the rings which were created earlier.\n",
    "* *Inputs* : n - number of rings, grid_size \n",
    "* *Outputs* : a numpy array containing the zone plate"
   ]
  },
  {
   "cell_type": "code",
   "execution_count": 3,
   "metadata": {},
   "outputs": [
    {
     "name": "stdout",
     "output_type": "stream",
     "text": [
      "grid_size  :  50000\n",
      "step_xy  :  4.000080001606565e-09\n",
      "energy(in eV)  :  500\n",
      "wavelength in m  :  2.47968e-09\n",
      "focal_length  :  0.0003225\n",
      "zp_coords  :  [-0.0001, 0.0001, -0.0001, 0.0001]\n",
      "delta  :  0.0048625\n",
      "beta  :  0.004763\n"
     ]
    },
    {
     "data": {
      "image/png": "[encoded data removed]",
      "text/plain": [
       "<Figure size 432x288 with 2 Axes>"
      ]
     },
     "metadata": {
      "needs_background": "light"
     },
     "output_type": "display_data"
    }
   ],
   "source": [
    "os.chdir(os.getcwd()+str('/rings'))\n",
    "parameters = pickle.load(open('parameters.pickle','rb'))\n",
    "for i in parameters : print(i,' : ',parameters[i])\n",
    "zp_coords = parameters['zp_coords']\n",
    "grid_size = parameters['grid_size']\n",
    "zp = make_zp_from_rings(500,int(grid_size))\n",
    "plt.imshow(zp,extent=np.array(zp_coords)*1e6)\n",
    "plt.title('Zone plate pattern')\n",
    "plt.xlabel('axes in um')\n",
    "plt.colorbar()\n",
    "plt.show()"
   ]
  },
  {
   "cell_type": "markdown",
   "metadata": {},
   "source": [
    "Importing zone plate pattern and the parameters associated with it. Plotting the zone plate after creating it from the rings. One needs to save the image with high dpi to clearly see the zone plate. "
   ]
  },
  {
   "cell_type": "code",
   "execution_count": 4,
   "metadata": {},
   "outputs": [],
   "source": [
    "beta  = parameters['beta']\n",
    "delta = parameters['delta']\n",
    "step_xy = parameters['step_xy']\n",
    "wavel = parameters['wavelength in m']\n",
    "f = parameters['focal_length']\n",
    "L = step_xy*np.shape(zp)[0] \n",
    "m,n = np.shape(zp)\n",
    "#zp_thickness = 0.34226869e-6\n",
    "zp_thickness = 1e-6"
   ]
  },
  {
   "cell_type": "markdown",
   "metadata": {},
   "source": [
    "*Setting up the parameters for the simulation*<br>\n",
    "* *beta and delta*       : delta and beta at the relevant energy <br>\n",
    "* *step_xy*              : sampling in the xy plane<br>\n",
    "* *wavel*                : wavelength<br>\n",
    "* *f*                    : focal length<br>\n",
    "* *wavefront*            : wavefront that is initialzed with magnitude of 1 and phase of 0<br>\n",
    "* *L*                    : support length<br>\n",
    "* *m,n*                  : dimensions of input zp<zp>\n",
    "* *zp_thickness*         : thickness of zone plate <br>"
   ]
  },
  {
   "cell_type": "code",
   "execution_count": 5,
   "metadata": {},
   "outputs": [],
   "source": [
    "i = 0.0 #Angle in degrees\n",
    "theta = (i)*(np.pi/180)\n",
    "slope = np.tan(theta)\n",
    "x = np.linspace(zp_coords[0],zp_coords[1],n)\n",
    "X,Y = np.meshgrid(x,x)\n",
    "z1 = 2*np.pi*(1/wavel)*slope*X\n",
    "del X,Y,x\n",
    "wave_in = np.multiply(np.ones(np.shape(zp),dtype='complex64'),np.exp(1j*(z1)))\n",
    "del z1"
   ]
  },
  {
   "cell_type": "markdown",
   "metadata": {},
   "source": [
    "Creating the input wave for the simulation. The input wave has a position(along one axis) dependent phase to simulate the effect of tilting the zone plate (instead of tilting the zone plate itself though tilting the zone plate might be more efficient in the long run)"
   ]
  },
  {
   "cell_type": "code",
   "execution_count": 6,
   "metadata": {},
   "outputs": [
    {
     "name": "stdout",
     "output_type": "stream",
     "text": [
      "suggested step size : 6.452703582419012e-08\n",
      "number of steps required for propogation through the zone plate : 15\n",
      "propogator to be used : Transfer Function\n",
      "Fresnel Number : 241976384.340713\n"
     ]
    },
    {
     "name": "stderr",
     "output_type": "stream",
     "text": [
      "Propogation through xray optical element...: 100%|██████████| 15/15 [21:57<00:00, 88.94s/it]\n"
     ]
    }
   ],
   "source": [
    "number_of_steps =  (prop_utils.number_of_steps(step_xy,wavel,zp_thickness))\n",
    "ne.set_vml_num_threads(12)\n",
    "wave_exit,L1 = prop_utils.optic_illumination(wave_in,zp,delta,beta,zp_thickness,\n",
    "                                              step_xy,wavel,number_of_steps,0,0)\n",
    "del zp,wave_in"
   ]
  },
  {
   "cell_type": "code",
   "execution_count": 7,
   "metadata": {},
   "outputs": [
    {
     "data": {
      "image/png": "[encoded data removed]",
      "text/plain": [
       "<Figure size 432x288 with 2 Axes>"
      ]
     },
     "metadata": {
      "needs_background": "light"
     },
     "output_type": "display_data"
    },
    {
     "name": "stdout",
     "output_type": "stream",
     "text": [
      "1.6499190622360531\n"
     ]
    }
   ],
   "source": [
    "plt.imshow(np.abs(wave_exit),extent=np.array([-L1/2,L1/2,-L1/2,L1/2])*1e6,cmap='jet')\n",
    "plt.xlabel('axes in um')\n",
    "plt.title('wavefront(magnitude) at zone plate exit')\n",
    "plt.colorbar()\n",
    "plt.show()\n",
    "print(np.max(np.abs(wave_exit)))"
   ]
  },
  {
   "cell_type": "code",
   "execution_count": 8,
   "metadata": {},
   "outputs": [
    {
     "name": "stdout",
     "output_type": "stream",
     "text": [
      "propogator to be used : Transfer Function\n",
      "Propagation to focal plane\n",
      "Fresnel Number : 50020.958003248175\n"
     ]
    }
   ],
   "source": [
    "step_z = f\n",
    "p = prop_utils.decide(step_z,step_xy,L,wavel)\n",
    "print('Propagation to focal plane')\n",
    "print('Fresnel Number :',((L**2)/(wavel*step_z)))\n",
    "wave_focus,L2 = p(wave_exit,step_xy,L,wavel,step_z)\n",
    "#wave_focus,L2 = p(wave_exit - np.ones(np.shape(wave_exit)),step_xy,L,wavel,step_z)\n",
    "#wave_focus = wave_focus +  np.ones(np.shape(wave_exit))"
   ]
  },
  {
   "cell_type": "code",
   "execution_count": 9,
   "metadata": {},
   "outputs": [
    {
     "data": {
      "image/png": "[encoded data removed]",
      "text/plain": [
       "<Figure size 432x288 with 2 Axes>"
      ]
     },
     "metadata": {
      "needs_background": "light"
     },
     "output_type": "display_data"
    }
   ],
   "source": [
    "plt.imshow(np.abs(wave_focus),extent=np.array([-L2/2,L2/2,-L2/2,L2/2])*1e6,cmap='jet')\n",
    "plt.xlabel('axes in um')\n",
    "plt.title('wavefront(magnitude) at focal plane')\n",
    "plt.colorbar()\n",
    "plt.show()"
   ]
  },
  {
   "cell_type": "markdown",
   "metadata": {},
   "source": [
    "The focal spot size is ~50 pixels and one can't see it when the whole wavefront (40k by 40k) is visualized ! \n",
    "Another thing one can notice is the faint outline of a square, this is because the output grid dimensions are different from the input grid dimensions and the length of the side of this square is nothing but the support length of the input plane."
   ]
  },
  {
   "cell_type": "code",
   "execution_count": 10,
   "metadata": {},
   "outputs": [
    {
     "data": {
      "image/png": "[encoded data removed]",
      "text/plain": [
       "<Figure size 432x288 with 1 Axes>"
      ]
     },
     "metadata": {
      "needs_background": "light"
     },
     "output_type": "display_data"
    },
    {
     "name": "stdout",
     "output_type": "stream",
     "text": [
      "slice in x-direction along the focal plane\n"
     ]
    }
   ],
   "source": [
    "x = np.linspace(-1,1,grid_size)*L2/2\n",
    "plt.plot(x*1e6,abs(wave_focus)[int(grid_size/2),:])\n",
    "plt.xlabel('axes in um')\n",
    "plt.show()\n",
    "print('slice in x-direction along the focal plane')"
   ]
  },
  {
   "cell_type": "markdown",
   "metadata": {},
   "source": [
    "The above plot shows that the location of the focal spot has shifted due to the tilt of the input wave."
   ]
  },
  {
   "cell_type": "code",
   "execution_count": 11,
   "metadata": {},
   "outputs": [
    {
     "name": "stdout",
     "output_type": "stream",
     "text": [
      "max_loc : 25000 25000 50 50\n"
     ]
    }
   ],
   "source": [
    "focal_spot_size = 50\n",
    "focal_spot,x_,y_,max_val = prop_utils.get_focal_spot(np.abs(wave_focus),grid_size,focal_spot_size)\n",
    "focal_spot = np.abs(focal_spot)"
   ]
  },
  {
   "cell_type": "code",
   "execution_count": 12,
   "metadata": {},
   "outputs": [
    {
     "data": {
      "image/png": "[encoded data removed]",
      "text/plain": [
       "<Figure size 432x288 with 2 Axes>"
      ]
     },
     "metadata": {
      "needs_background": "light"
     },
     "output_type": "display_data"
    }
   ],
   "source": [
    "#plt.imshow(np.log(focal_spot**2+1),extent = np.array([-1,1,-1,1])*(focal_spot_size)*(L2/grid_size)*(1e9),cmap='jet')\n",
    "#plt.title('focal spot intensity (log scale)')\n",
    "plt.imshow(focal_spot,extent = np.array([-1,1,-1,1])*(focal_spot_size)*(L2/grid_size)*(1e9),cmap='jet')\n",
    "plt.xlabel('axes in nm')\n",
    "plt.colorbar()\n",
    "plt.show()"
   ]
  },
  {
   "cell_type": "code",
   "execution_count": 13,
   "metadata": {},
   "outputs": [
    {
     "data": {
      "text/plain": [
       "265.88943548410526"
      ]
     },
     "execution_count": 13,
     "metadata": {},
     "output_type": "execute_result"
    }
   ],
   "source": [
    "np.max(focal_spot)"
   ]
  },
  {
   "cell_type": "code",
   "execution_count": null,
   "metadata": {},
   "outputs": [],
   "source": []
  }
 ],
 "metadata": {
  "kernelspec": {
   "display_name": "Python 3",
   "language": "python",
   "name": "python3"
  },
  "language_info": {
   "codemirror_mode": {
    "name": "ipython",
    "version": 3
   },
   "file_extension": ".py",
   "mimetype": "text/x-python",
   "name": "python",
   "nbconvert_exporter": "python",
   "pygments_lexer": "ipython3",
   "version": "3.6.3"
  }
 },
 "nbformat": 4,
 "nbformat_minor": 2
}
