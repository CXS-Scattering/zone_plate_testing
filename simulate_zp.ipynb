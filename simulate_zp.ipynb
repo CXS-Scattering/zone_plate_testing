{
 "cells": [
  {
   "cell_type": "markdown",
   "metadata": {},
   "source": [
    "(Note that all units unless otherwise mentioned are SI units.)"
   ]
  },
  {
   "cell_type": "code",
   "execution_count": 1,
   "metadata": {
    "collapsed": true
   },
   "outputs": [],
   "source": [
    "import numpy as np\n",
    "from skimage import io\n",
    "from skimage.restoration import unwrap_phase\n",
    "import prop\n",
    "import matplotlib.pyplot as plt\n",
    "import pickle\n",
    "import prop\n",
    "from tqdm import tqdm, trange\n",
    "import time"
   ]
  },
  {
   "cell_type": "markdown",
   "metadata": {},
   "source": [
    "Importing all the required libraries."
   ]
  },
  {
   "cell_type": "code",
   "execution_count": 2,
   "metadata": {},
   "outputs": [
    {
     "name": "stdout",
     "output_type": "stream",
     "text": [
      "step_xy 1.00010001e-08\n",
      "energy(in eV) 5000\n",
      "wavelength in m 2.47968e-10\n",
      "focal_length 0.006\n",
      "zp_coords (-50, 50, -50, 50)\n",
      "delta 0.00012143\n",
      "beta 2.6233e-05\n"
     ]
    },
    {
     "data": {
      "image/png": "[encoded data removed]",
      "text/plain": [
       "<matplotlib.figure.Figure at 0x7fd52ec88780>"
      ]
     },
     "metadata": {},
     "output_type": "display_data"
    }
   ],
   "source": [
    "zp = np.load('zp.npy')\n",
    "parameters = pickle.load(open('parameters.pickle','rb'))\n",
    "for i in parameters : print(i,parameters[i])\n",
    "zp_coords = parameters['zp_coords']\n",
    "plt.imshow(zp,extent=zp_coords)\n",
    "plt.xlabel('axes in um')\n",
    "plt.show()"
   ]
  },
  {
   "cell_type": "markdown",
   "metadata": {},
   "source": [
    "Importing zone plate pattern and the parameters associated with it."
   ]
  },
  {
   "cell_type": "code",
   "execution_count": 3,
   "metadata": {
    "collapsed": true
   },
   "outputs": [],
   "source": [
    "'''\n",
    "decide whether to use TF or IR approach depending on the distance\n",
    "'''\n",
    "def decide(step_z,step_xy,L,wavel):\n",
    "    dist = step_z\n",
    "    sampling = step_xy\n",
    "    critical = wavel*dist/L\n",
    "    if sampling > critical :\n",
    "        p = prop.propTF\n",
    "        print('propogator to be used : TF')\n",
    "    else :\n",
    "        p = prop.propIR\n",
    "        print('propogator to be used : IR')\n",
    "    return p   \n",
    "'''\n",
    "used as part of the multislice loop\n",
    "'''\n",
    "def modify(wavefront,zp_delta,zp_beta,step_z,wavel):\n",
    "    dist = step_z\n",
    "    kz = 2 * np.pi * dist /wavel\n",
    "    beta_slice = zp_beta\n",
    "    delta_slice = zp_delta\n",
    "    new_wavefront = wavefront * np.exp((kz * delta_slice) * 1j) * np.exp(-kz * beta_slice)\n",
    "    return new_wavefront\n",
    "'''\n",
    "perform free space propogation using the method decided above\n",
    "'''\n",
    "def propogate(wavefront,step_xy,step_z,L,wavel,p):\n",
    "    sampling = step_xy\n",
    "    dist = step_z\n",
    "    return p(wavefront,sampling,L,wavel,dist)"
   ]
  },
  {
   "cell_type": "markdown",
   "metadata": {},
   "source": [
    "*decide* : decides whether TF or IR approach should be used for propogation\n",
    "* *Inputs* : step size in z, step size in xy, support length, wavelength\n",
    "* *Outputs* : propogator\n",
    "    \n",
    "*modify* : wavefront is modified according to the material present\n",
    "* *Inputs* : wavefront, slice properties (here the zone plate),step size in z , wavelength\n",
    "* *Outputs* : modified wavefront\n",
    "\n",
    "*propogate* : wavefront is propogated for the specified distance\n",
    "* *Inputs* : wavefront, step size in z, step size in xy, wavelength, propogator\n",
    "* *Outputs* : wavefront at output plane\n"
   ]
  },
  {
   "cell_type": "code",
   "execution_count": 4,
   "metadata": {
    "collapsed": true
   },
   "outputs": [],
   "source": [
    "def plot_2d_complex(input_array,mode='linear',name='input_array',**kwargs):\n",
    "    fig, (ax1,ax2) = plt.subplots(1,2)\n",
    "    if 'coords' in kwargs:\n",
    "        if mode == 'linear' : \n",
    "            im1 = ax1.imshow((np.abs(input_array)),extent = kwargs['coords'])\n",
    "        if mode == 'log' :\n",
    "            im1 = ax1.imshow(np.log((np.abs(input_array))),extent = kwargs['coords'])\n",
    "        fig.colorbar(im1,ax = ax1)\n",
    "        ax1.set_xlabel('axes in um')\n",
    "        im2 = ax2.imshow(unwrap_phase(np.angle(input_array)),extent = kwargs['coords'])\n",
    "        fig.subplots_adjust(right=1.75)\n",
    "        ax2.set_xlabel('axes in um')\n",
    "        fig.colorbar(im2,ax = ax2)\n",
    "    else :\n",
    "        if mode == 'linear' : \n",
    "            im1 = ax1.imshow((np.abs(input_array)))\n",
    "        if mode == 'log' :\n",
    "            im1 = ax1.imshow(np.log((np.abs(input_array))))\n",
    "        fig.colorbar(im1,ax = ax1)\n",
    "        ax1.set_xlabel('axes in um')\n",
    "        im2 = ax2.imshow(unwrap_phase(np.angle(input_array)))\n",
    "        fig.subplots_adjust(right=1.75)\n",
    "        ax2.set_xlabel('axes in um')\n",
    "        fig.colorbar(im2,ax = ax2) \n",
    "    plt.show()\n",
    "    print('magnitude(in '+str(mode)+' scale)(left) and phase(right) of the '+str(name)+': ')\n",
    "    print('maximum value of '+str(name)+': ',np.max(abs(input_array)))\n",
    "    print('minimum value of '+str(name)+': ',np.min(abs(input_array)))\n",
    "    print('location of maxima in '+str(name)+': ',np.where(abs(input_array)==np.max(abs(input_array))))"
   ]
  },
  {
   "cell_type": "markdown",
   "metadata": {},
   "source": [
    "*plot_2d_complex* : function used to plot complex 2d array\n",
    "* *Inputs* : input_array - input array to be plotted, name - name of the variable being plotted, mode - used to specify linear or log plot , coords - used to plot the boundaries\n",
    "* *Outputs* : plots of magnitude and phase!"
   ]
  },
  {
   "cell_type": "code",
   "execution_count": 5,
   "metadata": {
    "collapsed": true
   },
   "outputs": [],
   "source": [
    "def propogate_through_zp(wavefront_input,zp_delta,zp_beta,zp_thickness,number_of_steps_zp,d1,d2):\n",
    "    \n",
    "    wavefront = np.copy(wavefront_input)\n",
    "    \n",
    "    #pre zone plate\n",
    "    if d1!= 0 :\n",
    "        print('Free space propogation ...')\n",
    "        step_z = d1\n",
    "        p = decide(step_z,step_xy,L,wavel)\n",
    "        print('Fresnel Number :',((zp_coords[0]**2*1e-12)/(wavel*step_z)))\n",
    "        wavefront  = p(wavefront,step_xy,L,wavel,step_z)\n",
    "    \n",
    "    \n",
    "    #through zone plate\n",
    "    step_z = zp_thickness/number_of_steps_zp\n",
    "    p = decide(step_z,step_xy,L,wavel)\n",
    "    time.sleep(1)\n",
    "    for i in tqdm(range(number_of_steps_zp),desc='ZP propogation ... '):\n",
    "        wavefront = modify(wavefront,zp_delta,zp_beta,step_z,wavel)\n",
    "        wavefront  = p(wavefront,step_xy,L,wavel,step_z)\n",
    "    \n",
    "    #post zone plate\n",
    "    if d2!=0 :\n",
    "        step_z = d2\n",
    "        print('Free space propogation ...')\n",
    "        p = decide(step_z,step_xy,L,wavel)\n",
    "        print('Fresnel Number :',((zp_coords[0]**2*1e-12)/(wavel*step_z)))\n",
    "        wavefront  = p(wavefront,step_xy,L,wavel,step_z)\n",
    "    \n",
    "    wavefront_out = np.copy(wavefront)\n",
    "    return wavefront_out"
   ]
  },
  {
   "cell_type": "markdown",
   "metadata": {},
   "source": [
    "*propogate_throguh_zp* : function used to propogate through zone plate\n",
    "* *Inputs* : wavefront - input wave, zp_delta,zp_beta - zone plate, zp_thickness - thickness of zone plate, number_of_steps_zp - number of steps for propogation through zp, d1 - propogation distance before zp, d2 - propogation distance after zp\n",
    "* *Outputs* : wavefront - output wave"
   ]
  },
  {
   "cell_type": "code",
   "execution_count": 6,
   "metadata": {
    "collapsed": true
   },
   "outputs": [],
   "source": [
    "zp_beta  = parameters['beta']*zp\n",
    "zp_delta = parameters['delta']*zp\n",
    "step_xy = parameters['step_xy']\n",
    "energy = parameters['energy(in eV)']\n",
    "wavel = parameters['wavelength in m']\n",
    "f = parameters['focal_length']\n",
    "wavefront = np.ones(np.shape(zp),dtype='complex64') \n",
    "L = step_xy*np.shape(zp)[0] \n",
    "m,n = np.shape(zp)\n",
    "zp_thickness = 1000e-9      "
   ]
  },
  {
   "cell_type": "markdown",
   "metadata": {},
   "source": [
    "*Setting up the parameters for the simulation*<br>\n",
    "* *zp_beta and zp_delta* : delta and beta grid for the zone plate <br>\n",
    "* *step_xy*              : sampling in the xy plane<br>\n",
    "* *wavel*                : wavelength<br>\n",
    "* *f*                    : focal length<br>\n",
    "* *wavefront*            : wavefront that is initialzed with magnitude of 1 and phase of 0<br>\n",
    "* *L*                    : support length<br>\n",
    "* *m,n*                  : dimensions of input zp<zp>\n",
    "* *zp_thickness*         : thickness of zone plate <br>"
   ]
  },
  {
   "cell_type": "code",
   "execution_count": 7,
   "metadata": {},
   "outputs": [
    {
     "name": "stdout",
     "output_type": "stream",
     "text": [
      "suggested step size : 4.03358509971e-06\n",
      "number of steps required for propogation through the zone plate : 2\n"
     ]
    }
   ],
   "source": [
    "eps1 = 0.1\n",
    "eps2 = 0.1\n",
    "delta_z_suggested = ((eps2*(step_xy**2))/(eps1**2*wavel))\n",
    "number_of_steps_zp = int(np.ceil(zp_thickness/delta_z_suggested))+1\n",
    "print('suggested step size :',delta_z_suggested)\n",
    "print('number of steps required for propogation through the zone plate :',number_of_steps_zp)"
   ]
  },
  {
   "cell_type": "markdown",
   "metadata": {},
   "source": [
    "Determining the step size in the z direction (direction of propogation) using the meteric described in *Optics Express Vol. 25, Issue 3, pp. 1831-1846*"
   ]
  },
  {
   "cell_type": "code",
   "execution_count": 8,
   "metadata": {
    "collapsed": true
   },
   "outputs": [],
   "source": [
    "wavefront = np.ones(np.shape(zp),dtype='complex64') #initialize wavefront "
   ]
  },
  {
   "cell_type": "code",
   "execution_count": null,
   "metadata": {},
   "outputs": [
    {
     "name": "stdout",
     "output_type": "stream",
     "text": [
      "propogator to be used : TF\n"
     ]
    },
    {
     "name": "stderr",
     "output_type": "stream",
     "text": [
      "ZP propogation ... : 100%|██████████| 2/2 [01:09<00:00, 34.87s/it]\n"
     ]
    },
    {
     "name": "stdout",
     "output_type": "stream",
     "text": [
      "Free space propogation ...\n",
      "propogator to be used : IR\n",
      "Fresnel Number : 1680.3243429259687\n"
     ]
    }
   ],
   "source": [
    "wavefront = propogate_through_zp(wavefront,zp_delta,zp_beta,zp_thickness,number_of_steps_zp,d1=0,d2=f)"
   ]
  },
  {
   "cell_type": "code",
   "execution_count": null,
   "metadata": {
    "collapsed": true
   },
   "outputs": [],
   "source": [
    "plot_2d_complex(wavefront,mode='log',name='focal_plane',coords=zp_coords)"
   ]
  },
  {
   "cell_type": "code",
   "execution_count": null,
   "metadata": {},
   "outputs": [],
   "source": [
    "x = np.linspace(zp_coords[0],zp_coords[1],n)\n",
    "plt.plot(x,abs(wavefront)[5000,:])\n",
    "plt.xlabel('axes in um')\n",
    "plt.show()\n",
    "print('slice in x-direction along the focal spot')"
   ]
  }
 ],
 "metadata": {
  "kernelspec": {
   "display_name": "Python 3",
   "language": "python",
   "name": "python3"
  },
  "language_info": {
   "codemirror_mode": {
    "name": "ipython",
    "version": 3
   },
   "file_extension": ".py",
   "mimetype": "text/x-python",
   "name": "python",
   "nbconvert_exporter": "python",
   "pygments_lexer": "ipython3",
   "version": "3.6.1"
  }
 },
 "nbformat": 4,
 "nbformat_minor": 2
}
