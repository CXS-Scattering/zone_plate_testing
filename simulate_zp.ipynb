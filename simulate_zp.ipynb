{
 "cells": [
  {
   "cell_type": "code",
   "execution_count": 1,
   "metadata": {
    "collapsed": true
   },
   "outputs": [],
   "source": [
    "import numpy as np\n",
    "from skimage import io\n",
    "import prop\n",
    "import matplotlib.pyplot as plt\n",
    "import pickle\n",
    "import prop"
   ]
  },
  {
   "cell_type": "markdown",
   "metadata": {},
   "source": [
    "Importing all the required libraries. Numba is used to optimize functions."
   ]
  },
  {
   "cell_type": "code",
   "execution_count": 2,
   "metadata": {},
   "outputs": [
    {
     "data": {
      "text/plain": [
       "{'beta': 2.6233e-05,\n",
       " 'delta': 0.00012143,\n",
       " 'energy(in eV)': 5000,\n",
       " 'focal_lenth': 0.006,\n",
       " 'step_xy': 6.0024009603844297e-08,\n",
       " 'wavelength in m': 2.47968e-10}"
      ]
     },
     "execution_count": 2,
     "metadata": {},
     "output_type": "execute_result"
    }
   ],
   "source": [
    "zp = np.load('zp.npy')\n",
    "parameters = pickle.load(open('parameters.pickle','rb'))\n",
    "parameters"
   ]
  },
  {
   "cell_type": "markdown",
   "metadata": {},
   "source": [
    "Importing zone plate pattern and the parameters associated with it."
   ]
  },
  {
   "cell_type": "code",
   "execution_count": 3,
   "metadata": {
    "collapsed": true
   },
   "outputs": [],
   "source": [
    "'''\n",
    "decide whether to use TF or IR approach depending on the distance\n",
    "'''\n",
    "def decide(step_z,step_xy,L,wavel):\n",
    "    dist = step_z\n",
    "    sampling = step_xy\n",
    "    critical = wavel*dist/L\n",
    "    if sampling > critical :\n",
    "        p = prop.propTF\n",
    "        print('TF')\n",
    "    else :\n",
    "        p = prop.propIR\n",
    "        print('IR')\n",
    "    return p   \n",
    "'''\n",
    "used as part of the multislice loop\n",
    "'''\n",
    "def modify(wavefront,zp_delta,zp_beta,step_z,wavel):\n",
    "    dist = step_z\n",
    "    kz = 2 * np.pi * dist /wavel\n",
    "    beta_slice = zp_beta\n",
    "    delta_slice = zp_delta\n",
    "    wavefront *= np.exp((kz * delta_slice) * 1j) * np.exp(-kz * beta_slice)\n",
    "    return wavefront\n",
    "'''\n",
    "perform free space propogation using the method decided above\n",
    "'''\n",
    "def propogate(wavefront,step_xy,step_z,L,wavel,p):\n",
    "    sampling = step_xy\n",
    "    dist = step_z\n",
    "    return p(wavefront,sampling,L,wavel,dist)"
   ]
  },
  {
   "cell_type": "markdown",
   "metadata": {},
   "source": [
    "*decide* : decides whether TF or IR approach should be used for propogation\n",
    "* *Inputs* : step size in z, step size in xy, support length, wavelength\n",
    "* *Outputs* : propogator\n",
    "    \n",
    "*modify* : wavefront is modified according to the material present\n",
    "* *Inputs* : wavefront, slice properties (here the zone plate),step size in z , wavelength\n",
    "* *Outputs* : modified wavefront\n",
    "\n",
    "*propogate* : wavefront is propogated for the specified distance\n",
    "* *Inputs* : wavefront, step size in z, step size in xy, wavelength, propogator\n",
    "* *Outputs* : wavefront at output plane\n"
   ]
  },
  {
   "cell_type": "code",
   "execution_count": 4,
   "metadata": {},
   "outputs": [],
   "source": [
    "zp_beta  = parameters['beta']*zp\n",
    "zp_delta = parameters['delta']*zp\n",
    "step_xy = parameters['step_xy']\n",
    "energy = parameters['energy(in eV)']\n",
    "wavel = parameters['wavelength in m']\n",
    "wavefront = np.ones(np.shape(zp),dtype='complex64') #initialize wavefront \n",
    "prop_steps = 7500           #Total number of propogation steps\n",
    "zone_plate_length = 1       #Number of steps along z for which zone plate is present\n",
    "step_z = 1e-6               #Step size along z\n",
    "L = step_xy*np.shape(zp)[0] #Support length\n",
    "n = np.shape(zp)[0]         #dimension of input zp"
   ]
  },
  {
   "cell_type": "markdown",
   "metadata": {},
   "source": [
    "Setting up the parameters for the simulation"
   ]
  },
  {
   "cell_type": "code",
   "execution_count": 7,
   "metadata": {},
   "outputs": [],
   "source": [
    "'''\n",
    "multislice simulation.\n",
    "'''\n",
    "def simulate(wavefront,zp,prop_steps,zone_plate_length,n,N1=0,N2=0):\n",
    "        p = decide(step_z,step_xy,L,wavel)\n",
    "        output = np.zeros((n,n,N2-N1))\n",
    "        j = 0\n",
    "        for i in range(prop_steps):\n",
    "            print(i)\n",
    "            if i<=zone_plate_length :\n",
    "                wavefront = modify(wavefront,zp_delta,zp_beta,step_z,wavel)\n",
    "                wavefront = propogate(wavefront,step_xy,step_z,L,wavel,p)\n",
    "            else :\n",
    "                wavefront = propogate(wavefront,step_xy,step_z,L,wavel,p)\n",
    "            if i>N1 & i<N2:\n",
    "                output[j] = abs(wavefront)\n",
    "                j = j + 1\n",
    "        return wavefront,output"
   ]
  },
  {
   "cell_type": "markdown",
   "metadata": {},
   "source": [
    "*simulate* : perform multislice simulation for the given zone plate\n",
    "* *Inputs* : wavefront, step size in z, step size in xy, wavelength, propogator\n",
    "* *Outputs* : wavefront at output plane\n"
   ]
  },
  {
   "cell_type": "code",
   "execution_count": 8,
   "metadata": {
    "collapsed": true
   },
   "outputs": [],
   "source": [
    "#simulate(wavefront,zp,prop_steps,zone_plate_length,n,5500,6500)"
   ]
  }
 ],
 "metadata": {
  "kernelspec": {
   "display_name": "Python 3",
   "language": "python",
   "name": "python3"
  },
  "language_info": {
   "codemirror_mode": {
    "name": "ipython",
    "version": 3
   },
   "file_extension": ".py",
   "mimetype": "text/x-python",
   "name": "python",
   "nbconvert_exporter": "python",
   "pygments_lexer": "ipython3",
   "version": "3.6.1"
  }
 },
 "nbformat": 4,
 "nbformat_minor": 2
}
