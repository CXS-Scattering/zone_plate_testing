{
 "cells": [
  {
   "cell_type": "markdown",
   "metadata": {},
   "source": [
    "(Note that all units unless otherwise mentioned are SI units.)"
   ]
  },
  {
   "cell_type": "code",
   "execution_count": 1,
   "metadata": {},
   "outputs": [
    {
     "ename": "ModuleNotFoundError",
     "evalue": "No module named 'prop'",
     "output_type": "error",
     "traceback": [
      "\u001b[0;31m---------------------------------------------------------------------------\u001b[0m",
      "\u001b[0;31mModuleNotFoundError\u001b[0m                       Traceback (most recent call last)",
      "\u001b[0;32m<ipython-input-1-b5b2ed1db9b2>\u001b[0m in \u001b[0;36m<module>\u001b[0;34m()\u001b[0m\n\u001b[1;32m      2\u001b[0m \u001b[0;32mimport\u001b[0m \u001b[0mmatplotlib\u001b[0m\u001b[0;34m.\u001b[0m\u001b[0mpyplot\u001b[0m \u001b[0;32mas\u001b[0m \u001b[0mplt\u001b[0m\u001b[0;34m\u001b[0m\u001b[0m\n\u001b[1;32m      3\u001b[0m \u001b[0;32mimport\u001b[0m \u001b[0mpickle\u001b[0m\u001b[0;34m\u001b[0m\u001b[0m\n\u001b[0;32m----> 4\u001b[0;31m \u001b[0;32mimport\u001b[0m \u001b[0mprop\u001b[0m\u001b[0;34m\u001b[0m\u001b[0m\n\u001b[0m\u001b[1;32m      5\u001b[0m \u001b[0;32mfrom\u001b[0m \u001b[0mskimage\u001b[0m \u001b[0;32mimport\u001b[0m \u001b[0mio\u001b[0m\u001b[0;34m\u001b[0m\u001b[0m\n\u001b[1;32m      6\u001b[0m \u001b[0;32mfrom\u001b[0m \u001b[0mskimage\u001b[0m \u001b[0;32mimport\u001b[0m \u001b[0mimg_as_float\u001b[0m\u001b[0;34m\u001b[0m\u001b[0m\n",
      "\u001b[0;31mModuleNotFoundError\u001b[0m: No module named 'prop'"
     ]
    }
   ],
   "source": [
    "import numpy as np\n",
    "import matplotlib.pyplot as plt\n",
    "import pickle\n",
    "\n",
    "\n"
   ]
  },
  {
   "cell_type": "markdown",
   "metadata": {},
   "source": [
    "Importing all the required libraries. "
   ]
  },
  {
   "cell_type": "code",
   "execution_count": null,
   "metadata": {},
   "outputs": [],
   "source": [
    "zp = np.load('Au_100_zp.npy')\n",
    "parameters = pickle.load(open('parameters_Au_100.pickle','rb'))\n",
    "for i in parameters : print(i,parameters[i])\n",
    "zp_coords = parameters['zp_coords']\n",
    "plt.imshow(zp,extent=zp_coords)\n",
    "plt.xlabel('axes in um')\n",
    "plt.show()"
   ]
  },
  {
   "cell_type": "markdown",
   "metadata": {},
   "source": [
    "Importing zone plate pattern and the parameters associated with it."
   ]
  },
  {
   "cell_type": "code",
   "execution_count": null,
   "metadata": {
    "collapsed": true
   },
   "outputs": [],
   "source": [
    "'''\n",
    "decide whether to use TF or IR approach depending on the distance\n",
    "'''\n",
    "def decide(step_z,step_xy,L,wavel):\n",
    "    dist = step_z\n",
    "    sampling = step_xy\n",
    "    critical = wavel*dist/L\n",
    "    if sampling > critical :\n",
    "        p = prop.propTF\n",
    "        print('propogator to be used : TF')\n",
    "    else :\n",
    "        p = prop.propIR\n",
    "        print('propogator to be used : IR')\n",
    "    return p   \n",
    "'''\n",
    "used as part of the multislice loop\n",
    "'''\n",
    "def modify(wavefront,zp_delta,zp_beta,step_z,wavel):\n",
    "    dist = step_z\n",
    "    kz = 2 * np.pi * dist /wavel\n",
    "    beta_slice = zp_beta\n",
    "    delta_slice = zp_delta\n",
    "    output = wavefront * np.exp((kz * delta_slice) * 1j) * np.exp(-kz * beta_slice)\n",
    "    return output\n",
    "'''\n",
    "perform free space propogation using the method decided above\n",
    "'''\n",
    "def propogate(wavefront,step_xy,step_z,L,wavel,p):\n",
    "    sampling = step_xy\n",
    "    dist = step_z\n",
    "    return p(wavefront,sampling,L,wavel,dist)"
   ]
  },
  {
   "cell_type": "markdown",
   "metadata": {},
   "source": [
    "*decide* : decides whether TF or IR approach should be used for propogation\n",
    "* *Inputs* : step size in z, step size in xy, support length, wavelength\n",
    "* *Outputs* : propogator\n",
    "    \n",
    "*modify* : wavefront is modified according to the material present\n",
    "* *Inputs* : wavefront, slice properties (here the zone plate),step size in z , wavelength\n",
    "* *Outputs* : modified wavefront\n",
    "\n",
    "*propogate* : wavefront is propogated for the specified distance\n",
    "* *Inputs* : wavefront, step size in z, step size in xy, wavelength, propogator\n",
    "* *Outputs* : wavefront at output plane\n"
   ]
  },
  {
   "cell_type": "code",
   "execution_count": null,
   "metadata": {
    "collapsed": true
   },
   "outputs": [],
   "source": [
    "zp_beta  = parameters['beta']*zp\n",
    "zp_delta = parameters['delta']*zp\n",
    "step_xy = parameters['step_xy']\n",
    "energy = parameters['energy(in eV)']\n",
    "wavel = parameters['wavelength in m']\n",
    "f = parameters['focal_length']\n",
    "step_z = 1e-6               \n",
    "L = step_xy*np.shape(zp)[0] \n",
    "n = np.shape(zp)[0]         \n",
    "zp_thickness = 1000e-9      "
   ]
  },
  {
   "cell_type": "markdown",
   "metadata": {},
   "source": [
    "*Setting up the parameters for the simulation*<br>\n",
    "* *zp_beta and zp_delta* : delta and beta grid for the zone plate <br>\n",
    "* *step_xy*              : sampling in the xy plane<br>\n",
    "* *wavel*                : wavelength<br>\n",
    "* *f*                    : focal_length<br>\n",
    "* *L*                    : support length<br>\n",
    "* *n*                    : dimension of input zp<br> \n",
    "* *zp_thickness*         : thickness of zone plate <br>"
   ]
  },
  {
   "cell_type": "code",
   "execution_count": null,
   "metadata": {},
   "outputs": [],
   "source": [
    "eps1 = 0.1\n",
    "eps2 = 0.1\n",
    "delta_z_suggested = ((eps2*(step_xy**2))/(eps1**2*wavel))\n",
    "number_of_steps_zp = int(np.ceil(zp_thickness/delta_z_suggested))\n",
    "print('suggested step size :',delta_z_suggested)\n",
    "print('number of steps required for propogation through the zone plate :',number_of_steps_zp)"
   ]
  },
  {
   "cell_type": "markdown",
   "metadata": {},
   "source": [
    "Determining the step size in the z direction (direction of propogation) using the meteric described in *Optics Express Vol. 25, Issue 3, pp. 1831-1846*"
   ]
  },
  {
   "cell_type": "code",
   "execution_count": null,
   "metadata": {
    "collapsed": true
   },
   "outputs": [],
   "source": [
    "theta = 0.05*(np.pi/180)\n",
    "slope = np.tan(theta)\n",
    "x = np.linspace(zp_coords[0]*1e-6,zp_coords[1]*1e-6,n)\n",
    "X,Y = np.meshgrid(x,x)\n",
    "z1 = 2*np.pi*(1/wavel)*slope*X\n",
    "wave_in = np.multiply(np.ones((n,n),dtype='complex64'),np.exp(1j*(z1)))"
   ]
  },
  {
   "cell_type": "markdown",
   "metadata": {},
   "source": [
    "*creating the input wave*<br>\n",
    "* *theta*   : tilt angle <br>\n",
    "* *slope*   : tangent of the tilt angle<br>\n",
    "* *x*       : axis in the x direction<br>\n",
    "* *X*       : 2D grid containing the x-coordinate of every point on the grid<br>\n",
    "* *z1*      : phase of the plane wave calculated accoring to the distance traveled<br>\n",
    "* *wave_in* : input wavefront with phase in accordance with the tilt"
   ]
  },
  {
   "cell_type": "code",
   "execution_count": null,
   "metadata": {},
   "outputs": [],
   "source": [
    "step_z = zp_thickness/number_of_steps_zp\n",
    "wavefront = np.ones(np.shape(zp),dtype='complex64') #initialize wavefront \n",
    "p = decide(step_z,step_xy,L,wavel)\n",
    "for i in range(number_of_steps_zp):\n",
    "    wavefront = modify(wave_in,zp_delta,zp_beta,step_z,wavel)\n",
    "    wavefront  = p(wavefront,step_xy,L,wavel,step_z)\n",
    "wavefront_exit = wavefront"
   ]
  },
  {
   "cell_type": "code",
   "execution_count": null,
   "metadata": {},
   "outputs": [],
   "source": [
    "fig, (ax1,ax2) = plt.subplots(1,2)\n",
    "im1 = ax1.imshow(abs(wavefront_exit),extent = zp_coords)\n",
    "fig.colorbar(im1,ax = ax1)\n",
    "ax1.set_xlabel('axes in um')\n",
    "im2 = ax2.imshow(unwrap_phase(np.angle(wavefront_exit)),extent = zp_coords)\n",
    "fig.subplots_adjust(right=1.75)\n",
    "ax2.set_xlabel('axes in um')\n",
    "fig.colorbar(im2,ax = ax2)\n",
    "plt.show()\n",
    "print('magnitude(left) and phase(right) of the exit wave')"
   ]
  },
  {
   "cell_type": "code",
   "execution_count": null,
   "metadata": {},
   "outputs": [],
   "source": [
    "step_z = f\n",
    "p = decide(step_z,step_xy,L,wavel)\n",
    "print(step_xy,wavel)\n",
    "print('Fresnel Number :',((50e-6*50e-6)/(wavel*step_z)))\n",
    "wavefront_focus  = p(wavefront_exit,step_xy,L,wavel,step_z)"
   ]
  },
  {
   "cell_type": "code",
   "execution_count": null,
   "metadata": {},
   "outputs": [],
   "source": [
    "fig, (ax1,ax2) = plt.subplots(1,2)\n",
    "im1 = ax1.imshow(np.log(abs(wavefront_focus)),extent = zp_coords)\n",
    "fig.colorbar(im1,ax = ax1)\n",
    "ax1.set_xlabel('axes in um')\n",
    "im2 = ax2.imshow(unwrap_phase(np.angle(wavefront_focus)),extent = zp_coords)\n",
    "fig.subplots_adjust(right=1.75)\n",
    "ax2.set_xlabel('axes in um')\n",
    "fig.colorbar(im2,ax = ax2)\n",
    "plt.show()\n",
    "print('magnitude(in log scale)(left) and phase(right) of the wave in the focal plane')\n",
    "print('maximum value of wavefront in focal plane : ',np.max(abs(wavefront_focus)))\n",
    "print('minimum value of wavefront in focal plane : ',np.min(abs(wavefront_focus)))\n",
    "print('location of maxima in focal plane : ',np.where(abs(wavefront_focus)==np.max(abs(wavefront_focus))))"
   ]
  },
  {
   "cell_type": "code",
   "execution_count": null,
   "metadata": {},
   "outputs": [],
   "source": [
    "x = np.linspace(zp_coords[0],zp_coords[1],n)\n",
    "plt.plot(x,abs(wavefront_focus)[5000,:])\n",
    "plt.xlabel('axes in um')\n",
    "plt.show()\n",
    "print('slice in x-direction along the focal spot')"
   ]
  },
  {
   "cell_type": "code",
   "execution_count": null,
   "metadata": {
    "collapsed": true
   },
   "outputs": [],
   "source": []
  }
 ],
 "metadata": {
  "kernelspec": {
   "display_name": "Python 3",
   "language": "python",
   "name": "python3"
  },
  "language_info": {
   "codemirror_mode": {
    "name": "ipython",
    "version": 3
   },
   "file_extension": ".py",
   "mimetype": "text/x-python",
   "name": "python",
   "nbconvert_exporter": "python",
   "pygments_lexer": "ipython3",
   "version": "3.6.3"
  }
 },
 "nbformat": 4,
 "nbformat_minor": 2
}
