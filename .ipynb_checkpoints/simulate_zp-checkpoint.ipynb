{
 "cells": [
  {
   "cell_type": "code",
   "execution_count": 1,
   "metadata": {
    "collapsed": true
   },
   "outputs": [],
   "source": [
    "import numpy as np\n",
    "from skimage import io\n",
    "import prop\n",
    "import matplotlib.pyplot as plt\n",
    "import pickle"
   ]
  },
  {
   "cell_type": "code",
   "execution_count": 2,
   "metadata": {},
   "outputs": [
    {
     "ename": "FileNotFoundError",
     "evalue": "[Errno 2] No such file or directory: 'parameters.pickle'",
     "output_type": "error",
     "traceback": [
      "\u001b[0;31m---------------------------------------------------------------------------\u001b[0m",
      "\u001b[0;31mFileNotFoundError\u001b[0m                         Traceback (most recent call last)",
      "\u001b[0;32m<ipython-input-2-0edbc1c7fed3>\u001b[0m in \u001b[0;36m<module>\u001b[0;34m()\u001b[0m\n\u001b[1;32m      1\u001b[0m \u001b[0mzp\u001b[0m \u001b[0;34m=\u001b[0m \u001b[0mnp\u001b[0m\u001b[0;34m.\u001b[0m\u001b[0mload\u001b[0m\u001b[0;34m(\u001b[0m\u001b[0;34m'zp.npy'\u001b[0m\u001b[0;34m)\u001b[0m\u001b[0;34m\u001b[0m\u001b[0m\n\u001b[0;32m----> 2\u001b[0;31m \u001b[0mparamters\u001b[0m \u001b[0;34m=\u001b[0m \u001b[0mpickle\u001b[0m\u001b[0;34m.\u001b[0m\u001b[0mload\u001b[0m\u001b[0;34m(\u001b[0m\u001b[0mopen\u001b[0m\u001b[0;34m(\u001b[0m\u001b[0;34m'parameters.pickle'\u001b[0m\u001b[0;34m,\u001b[0m\u001b[0;34m'rb'\u001b[0m\u001b[0;34m)\u001b[0m\u001b[0;34m)\u001b[0m\u001b[0;34m\u001b[0m\u001b[0m\n\u001b[0m",
      "\u001b[0;31mFileNotFoundError\u001b[0m: [Errno 2] No such file or directory: 'parameters.pickle'"
     ]
    }
   ],
   "source": [
    "zp = np.load('zp.npy')\n",
    "paramters = pickle.load(open('parameters.pickle','rb'))"
   ]
  },
  {
   "cell_type": "code",
   "execution_count": null,
   "metadata": {
    "collapsed": true
   },
   "outputs": [],
   "source": [
    "'''\n",
    "used as part of the multislice loop\n",
    "'''\n",
    "def modify(wavefront,zp_delta,zp_beta,step_z,wavel):\n",
    "    dist = step_z\n",
    "    kz = 2 * np.pi * dist /wavel\n",
    "    beta_slice = zp_beta\n",
    "    delta_slice = zp_delta\n",
    "    wavefront *= np.exp((kz * delta_slice) * 1j) * np.exp(-kz * beta_slice)\n",
    "    return wavefront\n",
    "'''\n",
    "decide whether to use TF or IR approach depending on the distance\n",
    "'''\n",
    "def decide(self):\n",
    "    dist = step_z\n",
    "    sampling = step_xy\n",
    "    L = sampling*np.shape(zp_beta)[0]\n",
    "    critical = self.wavel*dist/L\n",
    "    if sampling > critical :\n",
    "        p = prop.propTF\n",
    "        print('TF')\n",
    "    else :\n",
    "        p = prop.propIR\n",
    "        print('IR')\n",
    "    return p   "
   ]
  },
  {
   "cell_type": "code",
   "execution_count": null,
   "metadata": {
    "collapsed": true
   },
   "outputs": [],
   "source": [
    "zp_beta  = parameters['beta']\n",
    "zp_delta = parameters['delta']\n",
    "step_xy = parameters['step_xy']\n",
    "energy = parameters['energy']\n",
    "wavel = parameters['wavle']\n",
    "wavefront = np.ones(np.shape(grid_beta[:,:,0]),dtype='complex64') #initialize wavefront \n",
    "    '''\n",
    "    perform free space propogation using the method decided above\n",
    "    '''\n",
    "    def propogate(self,p):\n",
    "        sampling = np.sqrt(self.pixel_size[0]*self.pixel_size[1])\n",
    "        L = sampling*np.shape(self.grid_beta[:,:,0])[0]\n",
    "        dist = self.pixel_size[-1]\n",
    "        self.wavefront =  p(self.wavefront,sampling,L,self.wavel,dist)\n",
    "        return\n",
    "    '''\n",
    "    multislice simulation.\n",
    "    '''\n",
    "    def simulate(self,N1=0,N2=0):\n",
    "        p = self.decide()\n",
    "        n = np.shape(grid_beta)[-1]\n",
    "        output = np.zeros()\n",
    "        for i in range(n):\n",
    "            print(i)\n",
    "            self.modify(i)\n",
    "            self.propogate(p)\n",
    "            if i>N1 & i<N2:\n",
    "                output.append(np.array(np.abs(self.wavefront),dtype='float16'))\n",
    "        output = np.array(output)\n",
    "        return output"
   ]
  },
  {
   "cell_type": "code",
   "execution_count": 4,
   "metadata": {
    "collapsed": true
   },
   "outputs": [],
   "source": [
    "def simulate(zp,zone_plate_length,prop_steps):\n",
    "    return"
   ]
  },
  {
   "cell_type": "code",
   "execution_count": 3,
   "metadata": {
    "collapsed": true
   },
   "outputs": [],
   "source": [
    "prop_steps = 7500\n",
    "zone_plate_length = 1\n",
    "step_z = 1e-6"
   ]
  }
 ],
 "metadata": {
  "kernelspec": {
   "display_name": "Python 3",
   "language": "python",
   "name": "python3"
  },
  "language_info": {
   "codemirror_mode": {
    "name": "ipython",
    "version": 3
   },
   "file_extension": ".py",
   "mimetype": "text/x-python",
   "name": "python",
   "nbconvert_exporter": "python",
   "pygments_lexer": "ipython3",
   "version": "3.6.1"
  }
 },
 "nbformat": 4,
 "nbformat_minor": 2
}
