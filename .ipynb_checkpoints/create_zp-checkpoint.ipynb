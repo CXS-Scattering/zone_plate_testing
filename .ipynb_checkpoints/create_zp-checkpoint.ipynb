{
 "cells": [
  {
   "cell_type": "markdown",
   "metadata": {},
   "source": [
    "This script generates a zone plate pattern (based on partial filling) given the material, energy, grid size and number of zones as input"
   ]
  },
  {
   "cell_type": "code",
   "execution_count": 1,
   "metadata": {
    "collapsed": true
   },
   "outputs": [],
   "source": [
    "import numpy as np\n",
    "import matplotlib.pyplot as plt\n",
    "from numba import njit\n",
    "import urllib\n",
    "import pickle\n",
    "from tqdm import tqdm, trange"
   ]
  },
  {
   "cell_type": "markdown",
   "metadata": {},
   "source": [
    "Importing all the required libraries. Numba is used to optimize functions."
   ]
  },
  {
   "cell_type": "code",
   "execution_count": 2,
   "metadata": {
    "collapsed": true
   },
   "outputs": [],
   "source": [
    "def repeat_pattern(X,Y,Z):\n",
    "    flag_ = np.where((X>0)&(Y>0))\n",
    "    flag1 = np.where((X>0)&(Y<0))\n",
    "    flag1 = tuple((flag1[0][::-1],flag1[1]))\n",
    "    Z[flag1] = Z[flag_]\n",
    "    flag2 = np.where((X<0)&(Y>0))\n",
    "    flag2 = tuple((flag2[0],flag2[1][::-1]))\n",
    "    Z[flag2] = Z[flag_]\n",
    "    flag3 = np.where((X<0)&(Y<0))\n",
    "    flag3 = tuple((flag3[0][::-1],flag3[1][::-1]))\n",
    "    Z[flag3] = Z[flag_]\n",
    "    return Z\n"
   ]
  },
  {
   "cell_type": "markdown",
   "metadata": {},
   "source": [
    "*repeat_pattern* : produces the zone plate pattern given the pattern in only one quadrant(X,Y>0) as input.\n",
    "* *Inputs* : X and Y grid denoting the coordinates and Z containing the pattern in one quadrant.\n",
    "* *Outputs* : Z itself is modified to reflect the repition."
   ]
  },
  {
   "cell_type": "code",
   "execution_count": 3,
   "metadata": {
    "collapsed": true
   },
   "outputs": [],
   "source": [
    "def get_property(mat,energy):\n",
    "    url = \"http://henke.lbl.gov/cgi-bin/pert_cgi.pl\"\n",
    "    data = {'Element':str(mat), 'Energy':str(energy), 'submit':'Submit Query'}\n",
    "    data = urllib.parse.urlencode(data)\n",
    "    data = data.encode('utf-8')\n",
    "    req = urllib.request.Request(url, data)\n",
    "    resp = urllib.request.urlopen(req)\n",
    "    respDat = resp.read()\n",
    "    response = respDat.split()\n",
    "    d =  b'g/cm^3<li>Delta'\n",
    "    i = response.index(d)\n",
    "    delta = str(response[i+2])[:str(response[i+2]).index('<li>Beta')][2:]\n",
    "    beta = str(response[i+4])[2:-1]\n",
    "    return float(delta),float(beta)\n"
   ]
  },
  {
   "cell_type": "markdown",
   "metadata": {},
   "source": [
    "*get_property* : gets delta and beta for a given material at the specified energy from Henke et al.\n",
    "* *Inputs* : mat - material, energy - energy in eV\n",
    "* *Outputs* : delta, beta"
   ]
  },
  {
   "cell_type": "code",
   "execution_count": 4,
   "metadata": {
    "collapsed": true
   },
   "outputs": [],
   "source": [
    "@njit   # equivalent to \"jit(nopython=True)\".\n",
    "def partial_fill(x,y,step,r1,r2,n):\n",
    "    x_ = np.linspace(x-step/2,x+step/2,n)\n",
    "    y_ = np.linspace(y-step/2,y+step/2,n)\n",
    "    cnts = 0\n",
    "    for i in range(n):\n",
    "        for j in range(n):\n",
    "            z = (x_[i] * x_[i] + y_[j] * y_[j])\n",
    "            if r1*r1 < z < r2*r2:\n",
    "                cnts += 1\n",
    "    fill_factor = cnts/(n*n)\n",
    "    return fill_factor"
   ]
  },
  {
   "cell_type": "markdown",
   "metadata": {},
   "source": [
    "*partial_fill* : workhorse function for determining the fill pattern. This function is thus used in a loop. njit is used to optimize the function.\n",
    "* *Inputs* : x,y - coordinates of the point, step - step size, r1,r2 - inner and outer radii of ring, n - resolution\n",
    "* *Outputs* : fill_factor - value of the pixel based on amount of ring passing through it    "
   ]
  },
  {
   "cell_type": "code",
   "execution_count": 5,
   "metadata": {
    "collapsed": true
   },
   "outputs": [],
   "source": [
    "#find the radius of the nth zone\n",
    "def zone_radius(n,f,wavel):\n",
    "    return np.sqrt(n*wavel*f + ((n*wavel)/2)**2)"
   ]
  },
  {
   "cell_type": "markdown",
   "metadata": {},
   "source": [
    "*zone_radius* : functon to find the radius of a zone given the zone number and wavelength\n",
    "* *Inputs* : n - zone number, f - focal length, wavel - wavelength\n",
    "* *Outputs* : radius of the zone as specified by the inputs"
   ]
  },
  {
   "cell_type": "code",
   "execution_count": 6,
   "metadata": {},
   "outputs": [],
   "source": [
    "def make_quadrant(X,Y,flag,r1,r2,step,n,zone_number):\n",
    "    z = np.zeros(np.shape(X))\n",
    "    Z = np.sqrt(X**2+Y**2)\n",
    "    for l in tqdm(range(len(flag[0])),desc='zone '+'{}'.format(zone_number)+'{:.3f}'.format(r1*1e9)+' '+'{:.3f}'.format(r2*1e9)):\n",
    "        i = flag[0][l]\n",
    "        j = flag[1][l]\n",
    "        if 0.75*r1< Z[i][j] < 1.25*r2:\n",
    "            x1 = X[i][j]\n",
    "            y1 = Y[i][j]\n",
    "            z[i][j] = partial_fill(x1,y1,step,r1,r2,n)\n",
    "    z[tuple((flag[1],flag[0]))] = z[tuple((flag[0],flag[1]))]\n",
    "    return z"
   ]
  },
  {
   "cell_type": "markdown",
   "metadata": {},
   "source": [
    "*make_quadrant* : function used to create a quadrant of a ring given the inner and outer radius and zone number\n",
    "* *Inputs* : X,Y - grid, flag - specifies the quadrant to be filled (i.e. where X,Y>0), r1,r2 - inner and outer radii, n - parameter for the partial_fill function  \n",
    "* *Outputs* : z - output pattern with one quadrant filled."
   ]
  },
  {
   "cell_type": "code",
   "execution_count": 7,
   "metadata": {
    "collapsed": true
   },
   "outputs": [],
   "source": [
    "mat = 'Au'\n",
    "energy = 5000                   #Energy in EV\n",
    "f = 6*10**(-3)          #focal length in meters \n",
    "wavel = (1239.84/energy)*10**(-9)  #Wavelength in meters\n",
    "delta,beta = get_property(mat,energy)\n",
    "\n",
    "grid_size = 10000\n",
    "n = 250\n",
    "zp = np.zeros((grid_size,grid_size))\n",
    "x =  np.linspace(-50e-6,50e-6,grid_size)\n",
    "step_xy = x[-1]-x[-2]\n",
    "X,Y = np.meshgrid(x,x)\n",
    "flag = np.where((X>0)&(Y>0)&(X>=Y))\n",
    "zones = 50 #number of zones\n",
    "radius = np.zeros(zones)"
   ]
  },
  {
   "cell_type": "markdown",
   "metadata": {},
   "source": [
    "Setting up the parameters and initializing the variables."
   ]
  },
  {
   "cell_type": "code",
   "execution_count": null,
   "metadata": {
    "collapsed": true
   },
   "outputs": [],
   "source": [
    "for k in range(zones):\n",
    "    radius[k] = zone_radius(k,f,wavel)"
   ]
  },
  {
   "cell_type": "markdown",
   "metadata": {},
   "source": [
    "Filling the radius array with the radius of zones for later use in making the rings."
   ]
  },
  {
   "cell_type": "code",
   "execution_count": null,
   "metadata": {},
   "outputs": [
    {
     "name": "stderr",
     "output_type": "stream",
     "text": [
      "zone 10.000 1219.757: 100%|██████████| 12502500/12502500 [00:18<00:00, 661289.41it/s]\n",
      "zone 31724.997 2112.682: 100%|██████████| 12502500/12502500 [00:20<00:00, 608223.41it/s]\n",
      "zone 52439.515 2727.460:  18%|█▊        | 2309378/12502500 [00:08<00:14, 721919.38it/s]"
     ]
    }
   ],
   "source": [
    "#2D ZP\n",
    "for i in range(zones):\n",
    "    if i%2 == 1 :\n",
    "        r1 = radius[i-1]\n",
    "        r2 = radius[i]\n",
    "        ring = make_quadrant(X,Y,flag,r1,r2,step_xy,500,i)\n",
    "        zp+=ring\n",
    "zp = repeat_pattern(X,Y,zp)"
   ]
  },
  {
   "cell_type": "markdown",
   "metadata": {},
   "source": [
    "Loop to generate the zone plate and repeat the pattern to cover all the four quadrants."
   ]
  },
  {
   "cell_type": "code",
   "execution_count": null,
   "metadata": {},
   "outputs": [],
   "source": [
    "zp_coords =(-50,50,-50,50)\n",
    "fig, ax1 = plt.subplots(1,1)\n",
    "ax1.imshow(zp,extent=zp_coords)\n",
    "ax1.set_xlabel('coordinates in um')\n",
    "plt.show()"
   ]
  },
  {
   "cell_type": "code",
   "execution_count": null,
   "metadata": {
    "collapsed": true
   },
   "outputs": [],
   "source": [
    "#params = {'step_xy':step_xy,'energy(in eV)':energy,'wavelength in m':wavel,'focal_length':f,'zp_coords':zp_coords,'delta':delta,'beta':beta}\n",
    "#pickle.dump(params,open('parameters.pickle','wb'))\n",
    "#np.save('zp.npy',zp)"
   ]
  },
  {
   "cell_type": "markdown",
   "metadata": {
    "collapsed": true
   },
   "source": [
    "*saving the parameters and the zone plate array*"
   ]
  },
  {
   "cell_type": "code",
   "execution_count": null,
   "metadata": {
    "collapsed": true
   },
   "outputs": [],
   "source": []
  }
 ],
 "metadata": {
  "kernelspec": {
   "display_name": "Python 3",
   "language": "python",
   "name": "python3"
  },
  "language_info": {
   "codemirror_mode": {
    "name": "ipython",
    "version": 3
   },
   "file_extension": ".py",
   "mimetype": "text/x-python",
   "name": "python",
   "nbconvert_exporter": "python",
   "pygments_lexer": "ipython3",
   "version": "3.6.1"
  }
 },
 "nbformat": 4,
 "nbformat_minor": 2
}
