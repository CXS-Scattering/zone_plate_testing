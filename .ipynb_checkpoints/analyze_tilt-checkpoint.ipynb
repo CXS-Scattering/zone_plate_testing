{
 "cells": [
  {
   "cell_type": "code",
   "execution_count": 1,
   "metadata": {
    "collapsed": true
   },
   "outputs": [],
   "source": [
    "import numpy as np\n",
    "from skimage import io\n",
    "from skimage import img_as_float,img_as_int\n",
    "import matplotlib.pyplot as plt\n",
    "import pickle,os\n",
    "import imageio\n",
    "from skimage.color import gray2rgb "
   ]
  },
  {
   "cell_type": "code",
   "execution_count": 2,
   "metadata": {
    "collapsed": true
   },
   "outputs": [],
   "source": [
    "def find_len(arr):\n",
    "    i = 0\n",
    "    j = 0\n",
    "    l = np.int(np.shape(arr)[0])\n",
    "    k = np.int(l/2)\n",
    "    for m in range(k-1):\n",
    "        #print('m :',m,i,k,arr[k+1], arr[k])\n",
    "        \n",
    "        if arr[k+1] <= arr[k] :\n",
    "            i = i + 1\n",
    "            k = k + 1\n",
    "        else :\n",
    "            break\n",
    "    k = np.int(l/2)\n",
    "    for n in range(k-1):\n",
    "        #print('n :',n,i,k,arr[k-1], arr[k])\n",
    "        if arr[k-1] <= arr[k] :\n",
    "            j = j + 1\n",
    "            k = k - 1\n",
    "        else :\n",
    "            break\n",
    "    #print(i,j,i+j)\n",
    "    return i+j"
   ]
  },
  {
   "cell_type": "code",
   "execution_count": 3,
   "metadata": {
    "collapsed": true
   },
   "outputs": [],
   "source": [
    "def get_focal_spot(focal_plane_):\n",
    "    focal_spot = np.zeros((200,200))\n",
    "    x_,y_ = np.where(focal_plane_==np.max(focal_plane_))\n",
    "    x_ = x_[0]\n",
    "    y_ = y_[0]\n",
    "    if (x_ > 100) & (y_>100):\n",
    "        n = 100\n",
    "        focal_spot = focal_plane_[x_-n:x_+n,y_-n:y_+n]\n",
    "    else : \n",
    "        n = 50\n",
    "        focal_spot[50:150,50:150] = focal_plane_[x_-n:x_+n,y_-n:y_+n]\n",
    "    return focal_spot"
   ]
  },
  {
   "cell_type": "code",
   "execution_count": 4,
   "metadata": {
    "collapsed": true
   },
   "outputs": [],
   "source": [
    "angles = np.linspace(-1,1,50)\n",
    "parameters = pickle.load(open('parameters_Au_417.pickle','rb'))\n",
    "step_xy = parameters['step_xy']\n"
   ]
  },
  {
   "cell_type": "code",
   "execution_count": 6,
   "metadata": {},
   "outputs": [
    {
     "name": "stdout",
     "output_type": "stream",
     "text": [
      "0\n",
      "1\n",
      "2\n",
      "3\n",
      "4\n",
      "5\n",
      "6\n"
     ]
    },
    {
     "name": "stderr",
     "output_type": "stream",
     "text": [
      "/raid/home/sajid/anaconda3/lib/python3.6/site-packages/skimage/io/_io.py:132: UserWarning: focal_spot__color_0.tiff is a low contrast image\n",
      "  warn('%s is a low contrast image' % fname)\n"
     ]
    },
    {
     "ename": "IndexError",
     "evalue": "index 200 is out of bounds for axis 0 with size 200",
     "output_type": "error",
     "traceback": [
      "\u001b[0;31m---------------------------------------------------------------------------\u001b[0m",
      "\u001b[0;31mIndexError\u001b[0m                                Traceback (most recent call last)",
      "\u001b[0;32m<ipython-input-6-167095db79ca>\u001b[0m in \u001b[0;36m<module>\u001b[0;34m()\u001b[0m\n\u001b[1;32m     13\u001b[0m     \u001b[0mio\u001b[0m\u001b[0;34m.\u001b[0m\u001b[0mimsave\u001b[0m\u001b[0;34m(\u001b[0m\u001b[0;34m'focal_spot__color_'\u001b[0m\u001b[0;34m+\u001b[0m\u001b[0mstr\u001b[0m\u001b[0;34m(\u001b[0m\u001b[0mi\u001b[0m\u001b[0;34m)\u001b[0m\u001b[0;34m+\u001b[0m\u001b[0;34m'.tiff'\u001b[0m\u001b[0;34m,\u001b[0m\u001b[0mgray2rgb\u001b[0m\u001b[0;34m(\u001b[0m\u001b[0mimg_as_float\u001b[0m\u001b[0;34m(\u001b[0m\u001b[0mfocal_spot_\u001b[0m\u001b[0;34m)\u001b[0m\u001b[0;34m)\u001b[0m\u001b[0;34m)\u001b[0m\u001b[0;34m\u001b[0m\u001b[0m\n\u001b[1;32m     14\u001b[0m     \u001b[0mspotx\u001b[0m \u001b[0;34m=\u001b[0m \u001b[0mfind_len\u001b[0m\u001b[0;34m(\u001b[0m\u001b[0mfocal_spot\u001b[0m\u001b[0;34m[\u001b[0m\u001b[0mi\u001b[0m\u001b[0;34m]\u001b[0m\u001b[0;34m[\u001b[0m\u001b[0mn\u001b[0m\u001b[0;34m,\u001b[0m\u001b[0;34m:\u001b[0m\u001b[0;34m]\u001b[0m\u001b[0;34m)\u001b[0m\u001b[0;34m\u001b[0m\u001b[0m\n\u001b[0;32m---> 15\u001b[0;31m     \u001b[0mspoty\u001b[0m \u001b[0;34m=\u001b[0m \u001b[0mfind_len\u001b[0m\u001b[0;34m(\u001b[0m\u001b[0mfocal_spot\u001b[0m\u001b[0;34m[\u001b[0m\u001b[0mi\u001b[0m\u001b[0;34m]\u001b[0m\u001b[0;34m[\u001b[0m\u001b[0;34m:\u001b[0m\u001b[0;34m,\u001b[0m\u001b[0mn\u001b[0m\u001b[0;34m]\u001b[0m\u001b[0;34m)\u001b[0m\u001b[0;34m\u001b[0m\u001b[0m\n\u001b[0m\u001b[1;32m     16\u001b[0m     \u001b[0mspot\u001b[0m\u001b[0;34m.\u001b[0m\u001b[0mappend\u001b[0m\u001b[0;34m(\u001b[0m\u001b[0;34m[\u001b[0m\u001b[0mspotx\u001b[0m\u001b[0;34m,\u001b[0m\u001b[0mspoty\u001b[0m\u001b[0;34m]\u001b[0m\u001b[0;34m)\u001b[0m\u001b[0;34m\u001b[0m\u001b[0m\n\u001b[1;32m     17\u001b[0m \u001b[0;34m\u001b[0m\u001b[0m\n",
      "\u001b[0;32m<ipython-input-2-ae4237776ddd>\u001b[0m in \u001b[0;36mfind_len\u001b[0;34m(arr)\u001b[0m\n\u001b[1;32m      3\u001b[0m     \u001b[0mj\u001b[0m \u001b[0;34m=\u001b[0m \u001b[0;36m0\u001b[0m\u001b[0;34m\u001b[0m\u001b[0m\n\u001b[1;32m      4\u001b[0m     \u001b[0mk\u001b[0m \u001b[0;34m=\u001b[0m \u001b[0mnp\u001b[0m\u001b[0;34m.\u001b[0m\u001b[0mint\u001b[0m\u001b[0;34m(\u001b[0m\u001b[0mnp\u001b[0m\u001b[0;34m.\u001b[0m\u001b[0mshape\u001b[0m\u001b[0;34m(\u001b[0m\u001b[0marr\u001b[0m\u001b[0;34m)\u001b[0m\u001b[0;34m[\u001b[0m\u001b[0;36m0\u001b[0m\u001b[0;34m]\u001b[0m\u001b[0;34m/\u001b[0m\u001b[0;36m2\u001b[0m\u001b[0;34m)\u001b[0m\u001b[0;34m\u001b[0m\u001b[0m\n\u001b[0;32m----> 5\u001b[0;31m     \u001b[0;32mwhile\u001b[0m \u001b[0marr\u001b[0m\u001b[0;34m[\u001b[0m\u001b[0mk\u001b[0m\u001b[0;34m+\u001b[0m\u001b[0;36m1\u001b[0m\u001b[0;34m]\u001b[0m\u001b[0;34m<=\u001b[0m\u001b[0marr\u001b[0m\u001b[0;34m[\u001b[0m\u001b[0mk\u001b[0m\u001b[0;34m]\u001b[0m\u001b[0;34m:\u001b[0m\u001b[0;34m\u001b[0m\u001b[0m\n\u001b[0m\u001b[1;32m      6\u001b[0m         \u001b[0mi\u001b[0m \u001b[0;34m=\u001b[0m \u001b[0mi\u001b[0m\u001b[0;34m+\u001b[0m\u001b[0;36m1\u001b[0m\u001b[0;34m\u001b[0m\u001b[0m\n\u001b[1;32m      7\u001b[0m         \u001b[0mk\u001b[0m \u001b[0;34m=\u001b[0m \u001b[0mk\u001b[0m\u001b[0;34m+\u001b[0m\u001b[0;36m1\u001b[0m\u001b[0;34m\u001b[0m\u001b[0m\n",
      "\u001b[0;31mIndexError\u001b[0m: index 200 is out of bounds for axis 0 with size 200"
     ]
    }
   ],
   "source": [
    "focal_spot = []\n",
    "spot = []\n",
    "fwhm = []\n",
    "max_intensity = []\n",
    "n = 100\n",
    "thickness = 5\n",
    "os.chdir('/raid/home/sajid/ZP_simulations/Au_417_Chris_example/'+str(thickness)+'um_tilt/focal_spot')\n",
    "for i in range(50):\n",
    "    print(i)\n",
    "    focal_spot_ = io.imread('focal_spot_'+str(i)+'.tiff')\n",
    "    max_intensity.append(np.max(focal_spot_))\n",
    "    focal_spot.append(focal_spot_)\n",
    "    io.imsave('focal_spot__color_'+str(i)+'.tiff',gray2rgb(img_as_float(focal_spot_)))\n",
    "    spotx = find_len(focal_spot[i][n,:])\n",
    "    spoty = find_len(focal_spot[i][:,n])\n",
    "    spot.append([spotx,spoty])\n",
    "    \n",
    "    fwhm1 = len(np.where(focal_spot[i][n,:]>np.max(focal_spot[i][n,:])*0.5)[0])\n",
    "    fwhm2 = len(np.where(focal_spot[i][:,n]>np.max(focal_spot[i][:,n])*0.5)[0])\n",
    "    fwhm.append([fwhm1,fwhm2])\n",
    "    "
   ]
  },
  {
   "cell_type": "code",
   "execution_count": null,
   "metadata": {
    "collapsed": true
   },
   "outputs": [],
   "source": [
    "plt.clf()\n",
    "f, axarr = plt.subplots(10,5)\n",
    "k = 0\n",
    "axis = []\n",
    "max_plot_value = np.max(max_intensity)\n",
    "    \n",
    "for i in range(10):\n",
    "    for j in range(5):\n",
    "        axarr[i,j].imshow(focal_spot[k])\n",
    "        axarr[i,j].axis('off')\n",
    "        axarr[i,j].set_title(angles[k])\n",
    "        axarr[i,j].title.set_y(1.01)\n",
    "        #print(i,j,angles[k],k)\n",
    "        axis.append(angles[k])\n",
    "        k = k+1\n",
    "f.set_size_inches(15, 15, forward=True)\n",
    "f.subplots_adjust(wspace=0.5)\n",
    "f.subplots_adjust(hspace=0.5)\n",
    "f.suptitle('Tilt angles in degrees')\n",
    "plt.show()"
   ]
  },
  {
   "cell_type": "code",
   "execution_count": null,
   "metadata": {
    "collapsed": true
   },
   "outputs": [],
   "source": [
    "fwhm = np.array(fwhm)\n",
    "spot = np.array(spot)"
   ]
  },
  {
   "cell_type": "code",
   "execution_count": null,
   "metadata": {
    "collapsed": true
   },
   "outputs": [],
   "source": [
    "max_intensity = np.array(max_intensity)\n",
    "rel_intensity = (max_intensity)/(np.max(max_intensity))\n",
    "plt.plot(axis,rel_intensity,'*-')\n",
    "\n",
    "np.save('max_intensity_'+str(thickness)+'_1deg.npy',max_intensity)\n",
    "\n",
    "plt.ylabel('maximum intensity in focal plane (scaled)')\n",
    "plt.xlabel('tilt anlge in degrees')\n",
    "plt.title('scaled intensity vs tilt angle')\n",
    "plt.rcParams[\"figure.figsize\"] = (10,10)\n",
    "plt.show()\n",
    "#for i in range(50):\n",
    "#    print(i,rel_intensity[i],spot[i])"
   ]
  },
  {
   "cell_type": "code",
   "execution_count": null,
   "metadata": {
    "collapsed": true
   },
   "outputs": [],
   "source": [
    "x_axis = np.linspace(-100*step_xy,100*step_xy,200)\n",
    "max_loc = np.where(max_intensity==np.max(max_intensity))[0]\n",
    "scaling = max_intensity[max_loc[0]]\n",
    "np.save('max_intensity_1um_tilt_1deg_50_angles.npy',np.array(max_intensity))\n",
    "\n",
    "\n",
    "for i in range(50):    \n",
    "    j = (np.shape(focal_spot[i][0]))[0]\n",
    "    k = int(j/2)\n",
    "    focal_spot_ = focal_spot[i][k,:]/scaling\n",
    "    plt.plot(x_axis,focal_spot_,label=str(angles[i]))\n",
    "plt.legend(bbox_to_anchor=(1.20,1))\n",
    "plt.rcParams[\"figure.figsize\"] = (7,7)\n",
    "plt.xlabel('distance')\n",
    "plt.ylabel('scaled intensity at focal spot')\n",
    "plt.title('Intensity along one axis of focal spot as a function of tilt angle')\n",
    "plt.show()"
   ]
  },
  {
   "cell_type": "code",
   "execution_count": null,
   "metadata": {
    "collapsed": true
   },
   "outputs": [],
   "source": [
    "i = 23\n",
    "var = focal_spot[i]\n",
    "f,(ax1,ax2) = plt.subplots(1,2)\n",
    "im1 = ax1.imshow(np.log(var))\n",
    "f.colorbar(im1,ax=ax1)\n",
    "im2 = ax2.plot(var[100,:])\n",
    "f.subplots_adjust(right=1.75)\n",
    "plt.show()"
   ]
  },
  {
   "cell_type": "code",
   "execution_count": null,
   "metadata": {
    "collapsed": true
   },
   "outputs": [],
   "source": []
  }
 ],
 "metadata": {
  "kernelspec": {
   "display_name": "Python 3",
   "language": "python",
   "name": "python3"
  },
  "language_info": {
   "codemirror_mode": {
    "name": "ipython",
    "version": 3
   },
   "file_extension": ".py",
   "mimetype": "text/x-python",
   "name": "python",
   "nbconvert_exporter": "python",
   "pygments_lexer": "ipython3",
   "version": "3.6.3"
  }
 },
 "nbformat": 4,
 "nbformat_minor": 2
}
