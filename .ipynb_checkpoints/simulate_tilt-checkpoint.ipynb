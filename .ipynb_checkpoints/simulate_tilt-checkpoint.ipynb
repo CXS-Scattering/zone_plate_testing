{
 "cells": [
  {
   "cell_type": "markdown",
   "metadata": {},
   "source": [
    "(Note that all units unless otherwise mentioned are SI units.)"
   ]
  },
  {
   "cell_type": "code",
   "execution_count": 1,
   "metadata": {},
   "outputs": [],
   "source": [
    "import numpy as np\n",
    "import matplotlib.pyplot as plt\n",
    "import pickle\n",
    "from multislice import prop,prop_utils"
   ]
  },
  {
   "cell_type": "markdown",
   "metadata": {},
   "source": [
    "Importing all the required libraries."
   ]
  },
  {
   "cell_type": "code",
   "execution_count": 2,
   "metadata": {},
   "outputs": [
    {
     "name": "stdout",
     "output_type": "stream",
     "text": [
      "step_xy 2.00040008002e-08\n",
      "energy(in eV) 5000\n",
      "wavelength in m 2.47968e-10\n",
      "focal_length 0.006\n",
      "zp_coords (-50, 50, -50, 50)\n",
      "delta 0.00012143\n",
      "beta 2.6233e-05\n"
     ]
    },
    {
     "data": {
      "image/png": "[encoded data removed]",
      "text/plain": [
       "<matplotlib.figure.Figure at 0x7f479a1c5828>"
      ]
     },
     "metadata": {},
     "output_type": "display_data"
    }
   ],
   "source": [
    "zp = np.load('zp.npy')\n",
    "parameters = pickle.load(open('parameters.pickle','rb'))\n",
    "for i in parameters : print(i,parameters[i])\n",
    "zp_coords = parameters['zp_coords']\n",
    "plt.imshow(zp,extent=zp_coords)\n",
    "plt.xlabel('axes in um')\n",
    "plt.show()"
   ]
  },
  {
   "cell_type": "markdown",
   "metadata": {},
   "source": [
    "Importing zone plate pattern and the parameters associated with it."
   ]
  },
  {
   "cell_type": "code",
   "execution_count": 3,
   "metadata": {
    "collapsed": true
   },
   "outputs": [],
   "source": [
    "zp_beta  = parameters['beta']*zp\n",
    "zp_delta = parameters['delta']*zp\n",
    "step_xy = parameters['step_xy']\n",
    "energy = parameters['energy(in eV)']\n",
    "wavel = parameters['wavelength in m']\n",
    "f = parameters['focal_length']\n",
    "wavefront = np.ones(np.shape(zp),dtype='complex64') \n",
    "L = step_xy*np.shape(zp)[0] \n",
    "m,n = np.shape(zp)\n",
    "zp_thickness = 1000e-9      "
   ]
  },
  {
   "cell_type": "markdown",
   "metadata": {},
   "source": [
    "*Setting up the parameters for the simulation*<br>\n",
    "* *zp_beta and zp_delta* : delta and beta grid for the zone plate <br>\n",
    "* *step_xy*              : sampling in the xy plane<br>\n",
    "* *wavel*                : wavelength<br>\n",
    "* *f*                    : focal length<br>\n",
    "* *wavefront*            : wavefront that is initialzed with magnitude of 1 and phase of 0<br>\n",
    "* *L*                    : support length<br>\n",
    "* *m,n*                  : dimensions of input zp<zp>\n",
    "* *zp_thickness*         : thickness of zone plate <br>"
   ]
  },
  {
   "cell_type": "code",
   "execution_count": null,
   "metadata": {
    "collapsed": true
   },
   "outputs": [],
   "source": [
    "theta = 0.05*(np.pi/180)\n",
    "slope = np.tan(theta)\n",
    "x = np.linspace(zp_coords[0]*1e-6,zp_coords[1]*1e-6,n)\n",
    "X,Y = np.meshgrid(x,x)\n",
    "z1 = 2*np.pi*(1/wavel)*slope*X\n",
    "wave_in = np.multiply(np.ones((n,n),dtype='complex64'),np.exp(1j*(z1)))"
   ]
  },
  {
   "cell_type": "markdown",
   "metadata": {
    "collapsed": true
   },
   "source": [
    "*creating the input wave*<br>\n",
    "* *theta*   : tilt angle <br>\n",
    "* *slope*   : tangent of the tilt angle<br>\n",
    "* *x*       : axis in the x direction<br>\n",
    "* *X*       : 2D grid containing the x-coordinate of every point on the grid<br>\n",
    "* *z1*      : phase of the plane wave calculated accoring to the distance traveled<br>\n",
    "* *wave_in* : input wavefront with phase in accordance with the tilt"
   ]
  },
  {
   "cell_type": "code",
   "execution_count": null,
   "metadata": {},
   "outputs": [
    {
     "name": "stdout",
     "output_type": "stream",
     "text": [
      "suggested step size : 1.61375680738e-05\n",
      "number of steps required for propogation through the zone plate : 2\n",
      "propogator to be used : TF\n"
     ]
    },
    {
     "name": "stderr",
     "output_type": "stream",
     "text": [
      "\r",
      "Propogation through Zone Plate...:   0%|          | 0/2 [00:00<?, ?it/s]"
     ]
    }
   ],
   "source": [
    "number_of_steps_zp =  prop_utils.number_of_steps(step_xy,wavel,zp_thickness)\n",
    "wave_focus = prop_utils.propogate_through_object(wave_in,zp_delta,zp_beta,zp_thickness,step_xy,\n",
    "                                                 wavel,L,number_of_steps_zp,d1=0,d2=f, xray_object='Zone Plate')"
   ]
  },
  {
   "cell_type": "code",
   "execution_count": null,
   "metadata": {
    "collapsed": true
   },
   "outputs": [],
   "source": [
    "prop_utils.plot_2d_complex(wave_focus,mode='log',name='focal_plane',coords=zp_coords)"
   ]
  },
  {
   "cell_type": "code",
   "execution_count": null,
   "metadata": {
    "collapsed": true
   },
   "outputs": [],
   "source": [
    "x = np.linspace(zp_coords[0],zp_coords[1],n)\n",
    "plt.plot(x,abs(wave_focus)[2500,:])\n",
    "plt.xlabel('axes in um')\n",
    "plt.show()\n",
    "print('slice in x-direction along the focal spot')"
   ]
  },
  {
   "cell_type": "code",
   "execution_count": null,
   "metadata": {
    "collapsed": true
   },
   "outputs": [],
   "source": []
  }
 ],
 "metadata": {
  "kernelspec": {
   "display_name": "Python 3",
   "language": "python",
   "name": "python3"
  },
  "language_info": {
   "codemirror_mode": {
    "name": "ipython",
    "version": 3
   },
   "file_extension": ".py",
   "mimetype": "text/x-python",
   "name": "python",
   "nbconvert_exporter": "python",
   "pygments_lexer": "ipython3",
   "version": "3.6.3"
  }
 },
 "nbformat": 4,
 "nbformat_minor": 2
}
