{
 "cells": [
  {
   "cell_type": "code",
   "execution_count": 1,
   "metadata": {
    "collapsed": true
   },
   "outputs": [],
   "source": [
    "import numpy as np\n",
    "import os,pickle,time\n",
    "import matplotlib.pyplot as plt\n",
    "from skimage import io\n",
    "from skimage import img_as_float\n",
    "from multislice import prop,prop_utils"
   ]
  },
  {
   "cell_type": "code",
   "execution_count": 2,
   "metadata": {
    "collapsed": true
   },
   "outputs": [],
   "source": [
    "def find_edge(x):\n",
    "    if x<7500:\n",
    "        if x>100:\n",
    "            return 100\n",
    "        else :\n",
    "            return int(np.floor(x / 2) * 2)\n",
    "    else :\n",
    "        if (15000-x)>100:\n",
    "            return 100\n",
    "        else :\n",
    "            return int(np.floor(15000-x / 2) * 2)"
   ]
  },
  {
   "cell_type": "code",
   "execution_count": 3,
   "metadata": {
    "collapsed": true
   },
   "outputs": [],
   "source": [
    "def get_focal_spot(focal_plane_):\n",
    "    x_,y_ = np.where(focal_plane_==np.max(focal_plane_))\n",
    "    x_ = x_[0]\n",
    "    y_ = y_[0]\n",
    "    print(x_,y_)\n",
    "    x1 = find_edge(x_)\n",
    "    y1 = find_edge(y_)\n",
    "    focal_spot_ = np.zeros((200,200))\n",
    "    if (x1+y1) != 200:\n",
    "        focal_spot_[100-x1:100+x1,100-y1:100+y1] = focal_plane_[x_-x1:x_+x1,y_-y1:y_+y1]\n",
    "    else :\n",
    "        focal_spot_[:,:] = focal_plane_[x_-100:x_+100,y_-100:y_+100]\n",
    "    return focal_spot_,x_,y_,np.max(focal_plane_)"
   ]
  },
  {
   "cell_type": "code",
   "execution_count": 4,
   "metadata": {
    "collapsed": true
   },
   "outputs": [],
   "source": [
    "def make_zp_from_rings(n,grid_size):\n",
    "    os.chdir('/raid/home/sajid/ZP_simulations/var_width_thickness/4kev/rings')\n",
    "    zp = np.zeros((grid_size,grid_size))\n",
    "    for i in range(n):\n",
    "        if i%2 == 1 :\n",
    "            ring_ = np.load('ring_'+str(i)+'.npy')\n",
    "            ring_ = tuple((ring_[0],ring_[1]))\n",
    "            zp[ring_] = 1\n",
    "    return zp"
   ]
  },
  {
   "cell_type": "code",
   "execution_count": 5,
   "metadata": {
    "collapsed": true
   },
   "outputs": [],
   "source": [
    "def tilt(i,zp,thickness,parameters,out_dir):\n",
    "    zp_coords = parameters['zp_coords']    \n",
    "    step_xy = parameters['step_xy']\n",
    "    energy = parameters['energy(in eV)']\n",
    "    wavel = parameters['wavelength in m']\n",
    "    f = parameters['focal_length']\n",
    "    L = step_xy*np.shape(zp)[0] \n",
    "    n = np.shape(zp)[0]         \n",
    "    zp_thickness = thickness \n",
    "    \n",
    "    os.chdir(out_dir)\n",
    "    \n",
    "    t1 = time.time()\n",
    "    print('claclulating for tilt angle : ',i)      \n",
    "    theta = (i)*(np.pi/180)\n",
    "    slope = np.tan(theta)\n",
    "    x = np.linspace(zp_coords[0]*1e-6,zp_coords[1]*1e-6,n)\n",
    "    X,Y = np.meshgrid(x,x)\n",
    "    z1 = 2*np.pi*(1/wavel)*slope*X\n",
    "    wave_in = np.multiply(np.ones((n,n),dtype='complex64'),np.exp(1j*(z1)))\n",
    "    \n",
    "    zp_beta  = parameters['beta']*zp\n",
    "    zp_delta = parameters['delta']*zp\n",
    "    print(step_xy,wavel,zp_thickness)\n",
    "    number_of_steps_zp =  prop_utils.number_of_steps(step_xy,wavel,zp_thickness)*2\n",
    "    \n",
    "    wave_focus = prop_utils.propogate_through_object(wave_in,zp_delta,zp_beta,zp_thickness,step_xy,wavel,L,\n",
    "                                                     number_of_steps_zp,d1=0,d2=f, xray_object='zone Plate')\n",
    "    focal_spot,x_,y_,max_val = get_focal_spot(np.abs(wave_focus))\n",
    "    io.imsave('tilt_'+str(i)+'.tiff',img_as_float(focal_spot))\n",
    "    t2 = time.time()\n",
    "    print('tilt image number :',i,'time taken :',(t2-t1))\n",
    "    print(x_,y_,max_val)\n",
    "    return {'tilt_angle':i,'max_loc':np.array([x_,y_]),'max_val':max_val}"
   ]
  },
  {
   "cell_type": "code",
   "execution_count": 6,
   "metadata": {
    "collapsed": true
   },
   "outputs": [],
   "source": [
    "num_zones = np.array([50,100,200,300,400,500,600])\n",
    "thickness = np.array([0.5e-6,1e-6,2e-6,4e-6,8e-6,10e-6])"
   ]
  },
  {
   "cell_type": "code",
   "execution_count": 7,
   "metadata": {},
   "outputs": [
    {
     "name": "stdout",
     "output_type": "stream",
     "text": [
      "{'grid_size': 15000, 'step_xy': 6.6671111407422485e-09, 'energy(in eV)': 4000, 'wavelength in m': 3.0996e-10, 'focal_length': 0.006, 'zp_coords': (-50, 50, -50, 50), 'delta': 0.00018332, 'beta': 5.6552e-05}\n"
     ]
    }
   ],
   "source": [
    "inputs = np.linspace(-1,1,50)\n",
    "parameters = pickle.load(open('parameters.pickle','rb'))\n",
    "grid_size = parameters['grid_size']\n",
    "print(parameters)"
   ]
  },
  {
   "cell_type": "code",
   "execution_count": 8,
   "metadata": {},
   "outputs": [
    {
     "name": "stdout",
     "output_type": "stream",
     "text": [
      "0 1\n",
      "1\n",
      "50 1e-06 15000\n",
      "claclulating for tilt angle :  -0.918367346939\n",
      "6.66711114074e-09 3.0996e-10 1e-06\n",
      "suggested step size : 1.43406797532e-06\n",
      "number of steps required for propogation through the zone plate : 2\n",
      "propogator to be used : TF\n",
      "Fresnel Number : 129066117.779\n"
     ]
    },
    {
     "name": "stderr",
     "output_type": "stream",
     "text": [
      "Propogation through zone Plate...: 100%|██████████| 4/4 [02:15<00:00, 33.87s/it]\n"
     ]
    },
    {
     "name": "stdout",
     "output_type": "stream",
     "text": [
      "Free space propogation after zone Plate...\n",
      "propogator to be used : IR\n",
      "Fresnel Number : 5377.75490745\n",
      "7500 24\n",
      "tilt image number : -0.918367346939 time taken : 207.79210233688354\n",
      "7500 24 0.060187461578\n"
     ]
    },
    {
     "name": "stderr",
     "output_type": "stream",
     "text": [
      "/raid/home/sajid/anaconda3/lib/python3.6/site-packages/skimage/io/_io.py:132: UserWarning: tilt_-0.918367346939.tiff is a low contrast image\n",
      "  warn('%s is a low contrast image' % fname)\n"
     ]
    },
    {
     "name": "stdout",
     "output_type": "stream",
     "text": [
      "0 2\n",
      "1\n",
      "50 2e-06 15000\n"
     ]
    },
    {
     "ename": "FileNotFoundError",
     "evalue": "[Errno 2] No such file or directory: '/raid/home/sajid/ZP_simulations/var_width_thickness/4kev/output/zones_50thickness_2e-06'",
     "output_type": "error",
     "traceback": [
      "\u001b[0;31m---------------------------------------------------------------------------\u001b[0m",
      "\u001b[0;31mFileNotFoundError\u001b[0m                         Traceback (most recent call last)",
      "\u001b[0;32m<ipython-input-8-7b8fb75c61eb>\u001b[0m in \u001b[0;36m<module>\u001b[0;34m()\u001b[0m\n\u001b[1;32m     12\u001b[0m             \u001b[0mprint\u001b[0m\u001b[0;34m(\u001b[0m\u001b[0mn\u001b[0m\u001b[0;34m,\u001b[0m\u001b[0mt\u001b[0m\u001b[0;34m,\u001b[0m\u001b[0mgrid_size\u001b[0m\u001b[0;34m)\u001b[0m\u001b[0;34m\u001b[0m\u001b[0m\n\u001b[1;32m     13\u001b[0m             \u001b[0mangle\u001b[0m \u001b[0;34m=\u001b[0m \u001b[0minputs\u001b[0m\u001b[0;34m[\u001b[0m\u001b[0;36m2\u001b[0m\u001b[0;34m]\u001b[0m\u001b[0;34m\u001b[0m\u001b[0m\n\u001b[0;32m---> 14\u001b[0;31m             \u001b[0mmax_loc\u001b[0m\u001b[0;34m.\u001b[0m\u001b[0mappend\u001b[0m\u001b[0;34m(\u001b[0m\u001b[0mtilt\u001b[0m\u001b[0;34m(\u001b[0m\u001b[0mangle\u001b[0m\u001b[0;34m,\u001b[0m\u001b[0mzp\u001b[0m\u001b[0;34m,\u001b[0m\u001b[0mt\u001b[0m\u001b[0;34m,\u001b[0m\u001b[0mparameters\u001b[0m\u001b[0;34m,\u001b[0m\u001b[0mout_dir\u001b[0m\u001b[0;34m)\u001b[0m\u001b[0;34m)\u001b[0m\u001b[0;34m\u001b[0m\u001b[0m\n\u001b[0m\u001b[1;32m     15\u001b[0m             \u001b[0mnp\u001b[0m\u001b[0;34m.\u001b[0m\u001b[0msave\u001b[0m\u001b[0;34m(\u001b[0m\u001b[0;34m'max_loc.npy'\u001b[0m\u001b[0;34m,\u001b[0m \u001b[0mmax_loc\u001b[0m\u001b[0;34m)\u001b[0m\u001b[0;34m\u001b[0m\u001b[0m\n\u001b[1;32m     16\u001b[0m \u001b[0;34m\u001b[0m\u001b[0m\n",
      "\u001b[0;32m<ipython-input-5-436c452b07ef>\u001b[0m in \u001b[0;36mtilt\u001b[0;34m(i, zp, thickness, parameters, out_dir)\u001b[0m\n\u001b[1;32m      8\u001b[0m     \u001b[0mn\u001b[0m \u001b[0;34m=\u001b[0m \u001b[0mnp\u001b[0m\u001b[0;34m.\u001b[0m\u001b[0mshape\u001b[0m\u001b[0;34m(\u001b[0m\u001b[0mzp\u001b[0m\u001b[0;34m)\u001b[0m\u001b[0;34m[\u001b[0m\u001b[0;36m0\u001b[0m\u001b[0;34m]\u001b[0m\u001b[0;34m\u001b[0m\u001b[0m\n\u001b[1;32m      9\u001b[0m     \u001b[0mzp_thickness\u001b[0m \u001b[0;34m=\u001b[0m \u001b[0mthickness\u001b[0m\u001b[0;34m\u001b[0m\u001b[0m\n\u001b[0;32m---> 10\u001b[0;31m     \u001b[0mos\u001b[0m\u001b[0;34m.\u001b[0m\u001b[0mchdir\u001b[0m\u001b[0;34m(\u001b[0m\u001b[0mout_dir\u001b[0m\u001b[0;34m)\u001b[0m\u001b[0;34m\u001b[0m\u001b[0m\n\u001b[0m\u001b[1;32m     11\u001b[0m \u001b[0;34m\u001b[0m\u001b[0m\n\u001b[1;32m     12\u001b[0m     \u001b[0mt1\u001b[0m \u001b[0;34m=\u001b[0m \u001b[0mtime\u001b[0m\u001b[0;34m.\u001b[0m\u001b[0mtime\u001b[0m\u001b[0;34m(\u001b[0m\u001b[0;34m)\u001b[0m\u001b[0;34m\u001b[0m\u001b[0m\n",
      "\u001b[0;31mFileNotFoundError\u001b[0m: [Errno 2] No such file or directory: '/raid/home/sajid/ZP_simulations/var_width_thickness/4kev/output/zones_50thickness_2e-06'"
     ]
    }
   ],
   "source": [
    "for var1 in range(6):\n",
    "    n = num_zones[var1]\n",
    "    zp =  make_zp_from_rings(n,grid_size)\n",
    "    for var2 in range(6) :\n",
    "        if var1+var2 !=0 :\n",
    "            print(var1,var2)\n",
    "            max_loc = []\n",
    "            t = thickness[var2]\n",
    "            out_dir = '/raid/home/sajid/ZP_simulations/var_width_thickness/4kev/output/'+ str('zones_'+str(n)+'thickness_'+str(t))\n",
    "            os.mkdir(out_dir)\n",
    "            print(n,t,grid_size)\n",
    "            for angle in inputs:\n",
    "                max_loc.append(tilt(angle,zp,t,parameters,out_dir))\n",
    "            np.save('max_loc.npy', max_loc) \n",
    "          "
   ]
  }
 ],
 "metadata": {
  "kernelspec": {
   "display_name": "Python 3",
   "language": "python",
   "name": "python3"
  },
  "language_info": {
   "codemirror_mode": {
    "name": "ipython",
    "version": 3
   },
   "file_extension": ".py",
   "mimetype": "text/x-python",
   "name": "python",
   "nbconvert_exporter": "python",
   "pygments_lexer": "ipython3",
   "version": "3.6.3"
  }
 },
 "nbformat": 4,
 "nbformat_minor": 2
}
