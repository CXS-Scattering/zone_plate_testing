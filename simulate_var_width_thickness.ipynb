{
 "cells": [
  {
   "cell_type": "code",
   "execution_count": null,
   "metadata": {
    "collapsed": true
   },
   "outputs": [],
   "source": [
    "import numpy as np\n",
    "import os,pickle,time\n",
    "import matplotlib.pyplot as plt\n",
    "from skimage import io\n",
    "from skimage import img_as_float\n",
    "from multislice import prop,prop_utils"
   ]
  },
  {
   "cell_type": "code",
   "execution_count": null,
   "metadata": {
    "collapsed": true
   },
   "outputs": [],
   "source": [
    "def get_focal_spot(focal_plane_):\n",
    "    x_,y_ = np.where(focal_plane_==np.max(focal_plane_))\n",
    "    x_ = x_[0]\n",
    "    y_ = y_[0]\n",
    "    if (x_ > 100) & (y_>100):\n",
    "        n = 100\n",
    "    else : \n",
    "        n = 50\n",
    "    return focal_plane_[x_-n:x_+n,y_-n:y_+n]"
   ]
  },
  {
   "cell_type": "code",
   "execution_count": null,
   "metadata": {
    "collapsed": true
   },
   "outputs": [],
   "source": [
    "def make_zp_from_rings(num_zones):\n",
    "    os.chdir('/raid/home/sajid/ZP_simulations/var_width_thickness/4kev/rings')\n",
    "    zp = np.zeros((15000,15000))\n",
    "    for i in range(num_zones):\n",
    "        if i%2 == 1 :\n",
    "            ring_ = np.load('ring_'+str(i)+'.npy')\n",
    "            ring_ = tuple((ring_[0],ring_[1]))\n",
    "            zp[ring_] = 1\n",
    "    return zp"
   ]
  },
  {
   "cell_type": "code",
   "execution_count": null,
   "metadata": {},
   "outputs": [],
   "source": [
    "def tilt(i,zp,thickness,parameters,out_dir):\n",
    "    zp = make_zp_from_rings(num_zones)\n",
    "    zp_coords = parameters['zp_coords']    \n",
    "    step_xy = parameters['step_xy']\n",
    "    energy = parameters['energy(in eV)']\n",
    "    wavel = parameters['wavelength in m']\n",
    "    f = parameters['focal_length']\n",
    "    L = step_xy*np.shape(zp)[0] \n",
    "    n = np.shape(zp)[0]         \n",
    "    zp_thickness = thickness \n",
    "    os.chdir(out_dir)\n",
    "    \n",
    "    t1 = time.time()\n",
    "    print('claclulating for tilt angle : ',i)      \n",
    "    theta = (i)*(np.pi/180)\n",
    "    slope = np.tan(theta)\n",
    "    x = np.linspace(zp_coords[0]*1e-6,zp_coords[1]*1e-6,n)\n",
    "    X,Y = np.meshgrid(x,x)\n",
    "    z1 = 2*np.pi*(1/wavel)*slope*X\n",
    "    wave_in = np.multiply(np.ones((n,n),dtype='complex64'),np.exp(1j*(z1)))\n",
    "    \n",
    "    zp_beta  = parameters['beta']*zp\n",
    "    zp_delta = parameters['delta']*zp\n",
    "    \n",
    "    number_of_steps_zp =  prop_utils.number_of_steps(step_xy,wavel,zp_thickness)*2\n",
    "    wave_focus = prop_utils.propogate_through_object(wave_in,zp_delta,zp_beta,zp_thickness,step_xy,wavel,L,\n",
    "                                                     number_of_steps_zp,d1=0,d2=f, xray_object='zone Plate')\n",
    "    focal_spot = get_focal_spot(np.abs(wave_focus))\n",
    "    io.imsave('tilt_'+str(i)+'str'+'.tiff',img_as_float(focal_spot))\n",
    "    t2 = time.time()\n",
    "    print('tilt image number :',i,'time taken :',(t2-t1))"
   ]
  },
  {
   "cell_type": "code",
   "execution_count": null,
   "metadata": {
    "collapsed": true
   },
   "outputs": [],
   "source": [
    "num_zones = np.array([50,100,200,300,400,500,600])\n",
    "thickness = np.array([0.5e-6,1e-6,2e-6,4e-6,8e-6,10e-6])"
   ]
  },
  {
   "cell_type": "code",
   "execution_count": null,
   "metadata": {
    "collapsed": true
   },
   "outputs": [],
   "source": [
    "inputs = np.linspace(-1,1,50)\n",
    "parameters = pickle.load(open('parameters.pickle','rb'))"
   ]
  },
  {
   "cell_type": "code",
   "execution_count": null,
   "metadata": {
    "collapsed": true
   },
   "outputs": [],
   "source": [
    "for z in num_zones:\n",
    "    for t in thickness :\n",
    "        out_dir = '/raid/home/sajid/ZP_simulations/var_width_thickness/4kev/output'+ str('zones_'+str(z)+'thickness_'+'str(t)')\n",
    "        os.mkdir(out_dir)\n",
    "        for i in inputs :\n",
    "            zp =  make_zp_from_rings(z)\n",
    "            tilt(i,zp,t,parameters,out_dir)"
   ]
  }
 ],
 "metadata": {
  "kernelspec": {
   "display_name": "Python 3",
   "language": "python",
   "name": "python3"
  },
  "language_info": {
   "codemirror_mode": {
    "name": "ipython",
    "version": 3
   },
   "file_extension": ".py",
   "mimetype": "text/x-python",
   "name": "python",
   "nbconvert_exporter": "python",
   "pygments_lexer": "ipython3",
   "version": "3.6.3"
  }
 },
 "nbformat": 4,
 "nbformat_minor": 2
}
